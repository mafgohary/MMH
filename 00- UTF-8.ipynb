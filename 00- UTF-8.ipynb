{
 "cells": [
  {
   "cell_type": "code",
   "execution_count": null,
   "id": "825a8d4a",
   "metadata": {},
   "outputs": [],
   "source": [
    "#pip install chardet"
   ]
  },
  {
   "cell_type": "code",
   "execution_count": 2,
   "id": "22436b28",
   "metadata": {},
   "outputs": [
    {
     "name": "stdout",
     "output_type": "stream",
     "text": [
      "Converted D:\\15_Polimi\\Polimi_onedrive\\OneDrive - Politecnico di Milano\\Lombardia GTFS\\TrenitaliaTrenord\\agency.txt to UTF-8 and saved to D:\\15_Polimi\\Polimi_onedrive\\OneDrive - Politecnico di Milano\\Lombardia GTFS\\TrenitaliaTrenord\\UTF-8\\agency.txt.\n",
      "Converted D:\\15_Polimi\\Polimi_onedrive\\OneDrive - Politecnico di Milano\\Lombardia GTFS\\TrenitaliaTrenord\\calendar.txt to UTF-8 and saved to D:\\15_Polimi\\Polimi_onedrive\\OneDrive - Politecnico di Milano\\Lombardia GTFS\\TrenitaliaTrenord\\UTF-8\\calendar.txt.\n",
      "Converted D:\\15_Polimi\\Polimi_onedrive\\OneDrive - Politecnico di Milano\\Lombardia GTFS\\TrenitaliaTrenord\\routes.txt to UTF-8 and saved to D:\\15_Polimi\\Polimi_onedrive\\OneDrive - Politecnico di Milano\\Lombardia GTFS\\TrenitaliaTrenord\\UTF-8\\routes.txt.\n",
      "Converted D:\\15_Polimi\\Polimi_onedrive\\OneDrive - Politecnico di Milano\\Lombardia GTFS\\TrenitaliaTrenord\\stops.txt to UTF-8 and saved to D:\\15_Polimi\\Polimi_onedrive\\OneDrive - Politecnico di Milano\\Lombardia GTFS\\TrenitaliaTrenord\\UTF-8\\stops.txt.\n",
      "Converted D:\\15_Polimi\\Polimi_onedrive\\OneDrive - Politecnico di Milano\\Lombardia GTFS\\TrenitaliaTrenord\\stop_times.txt to UTF-8 and saved to D:\\15_Polimi\\Polimi_onedrive\\OneDrive - Politecnico di Milano\\Lombardia GTFS\\TrenitaliaTrenord\\UTF-8\\stop_times.txt.\n",
      "Converted D:\\15_Polimi\\Polimi_onedrive\\OneDrive - Politecnico di Milano\\Lombardia GTFS\\TrenitaliaTrenord\\trips.txt to UTF-8 and saved to D:\\15_Polimi\\Polimi_onedrive\\OneDrive - Politecnico di Milano\\Lombardia GTFS\\TrenitaliaTrenord\\UTF-8\\trips.txt.\n",
      "Converted D:\\15_Polimi\\Polimi_onedrive\\OneDrive - Politecnico di Milano\\Lombardia GTFS\\TrenitaliaTrenord\\validità.txt to UTF-8 and saved to D:\\15_Polimi\\Polimi_onedrive\\OneDrive - Politecnico di Milano\\Lombardia GTFS\\TrenitaliaTrenord\\UTF-8\\validità.txt.\n",
      "Converted D:\\15_Polimi\\Polimi_onedrive\\OneDrive - Politecnico di Milano\\Lombardia GTFS\\TrenitaliaTrenord\\UTF-8\\agency.txt to UTF-8 and saved to D:\\15_Polimi\\Polimi_onedrive\\OneDrive - Politecnico di Milano\\Lombardia GTFS\\TrenitaliaTrenord\\UTF-8\\agency.txt.\n",
      "Converted D:\\15_Polimi\\Polimi_onedrive\\OneDrive - Politecnico di Milano\\Lombardia GTFS\\TrenitaliaTrenord\\UTF-8\\calendar.txt to UTF-8 and saved to D:\\15_Polimi\\Polimi_onedrive\\OneDrive - Politecnico di Milano\\Lombardia GTFS\\TrenitaliaTrenord\\UTF-8\\calendar.txt.\n",
      "Converted D:\\15_Polimi\\Polimi_onedrive\\OneDrive - Politecnico di Milano\\Lombardia GTFS\\TrenitaliaTrenord\\UTF-8\\routes.txt to UTF-8 and saved to D:\\15_Polimi\\Polimi_onedrive\\OneDrive - Politecnico di Milano\\Lombardia GTFS\\TrenitaliaTrenord\\UTF-8\\routes.txt.\n",
      "Converted D:\\15_Polimi\\Polimi_onedrive\\OneDrive - Politecnico di Milano\\Lombardia GTFS\\TrenitaliaTrenord\\UTF-8\\stops.txt to UTF-8 and saved to D:\\15_Polimi\\Polimi_onedrive\\OneDrive - Politecnico di Milano\\Lombardia GTFS\\TrenitaliaTrenord\\UTF-8\\stops.txt.\n",
      "Converted D:\\15_Polimi\\Polimi_onedrive\\OneDrive - Politecnico di Milano\\Lombardia GTFS\\TrenitaliaTrenord\\UTF-8\\stop_times.txt to UTF-8 and saved to D:\\15_Polimi\\Polimi_onedrive\\OneDrive - Politecnico di Milano\\Lombardia GTFS\\TrenitaliaTrenord\\UTF-8\\stop_times.txt.\n",
      "Converted D:\\15_Polimi\\Polimi_onedrive\\OneDrive - Politecnico di Milano\\Lombardia GTFS\\TrenitaliaTrenord\\UTF-8\\trips.txt to UTF-8 and saved to D:\\15_Polimi\\Polimi_onedrive\\OneDrive - Politecnico di Milano\\Lombardia GTFS\\TrenitaliaTrenord\\UTF-8\\trips.txt.\n",
      "Converted D:\\15_Polimi\\Polimi_onedrive\\OneDrive - Politecnico di Milano\\Lombardia GTFS\\TrenitaliaTrenord\\UTF-8\\validità.txt to UTF-8 and saved to D:\\15_Polimi\\Polimi_onedrive\\OneDrive - Politecnico di Milano\\Lombardia GTFS\\TrenitaliaTrenord\\UTF-8\\validità.txt.\n"
     ]
    }
   ],
   "source": [
    "import os\n",
    "from pathlib import Path\n",
    "import chardet  # You may need to install this package\n",
    "\n",
    "def convert_to_utf8(input_dir, output_dir):\n",
    "    # Create the output directory if it doesn't exist\n",
    "    os.makedirs(output_dir, exist_ok=True)\n",
    "    \n",
    "    # List all txt files in the specified directory\n",
    "    for file_path in Path(input_dir).rglob('*.txt'):\n",
    "        # Detect file encoding\n",
    "        with open(file_path, 'rb') as file:\n",
    "            raw_data = file.read()\n",
    "            encoding = chardet.detect(raw_data)['encoding']\n",
    "        \n",
    "        # Read the file with detected encoding\n",
    "        with open(file_path, 'r', encoding=encoding or 'utf-8') as file:\n",
    "            content = file.read()\n",
    "        \n",
    "        # Write the file back in UTF-8 encoding to the new directory\n",
    "        new_file_path = Path(output_dir) / file_path.name\n",
    "        with open(new_file_path, 'w', encoding='utf-8') as file:\n",
    "            file.write(content)\n",
    "        \n",
    "        print(f'Converted {file_path} to UTF-8 and saved to {new_file_path}.')\n",
    "\n",
    "# Example usage\n",
    "input_directory = r'D:\\15_Polimi\\Polimi_onedrive\\OneDrive - Politecnico di Milano\\Lombardia GTFS\\TrenitaliaTrenord'\n",
    "output_directory = r'D:\\15_Polimi\\Polimi_onedrive\\OneDrive - Politecnico di Milano\\Lombardia GTFS\\TrenitaliaTrenord\\UTF-8'\n",
    "convert_to_utf8(input_directory, output_directory)\n"
   ]
  },
  {
   "cell_type": "code",
   "execution_count": null,
   "id": "f4d7a254",
   "metadata": {},
   "outputs": [],
   "source": []
  }
 ],
 "metadata": {
  "kernelspec": {
   "display_name": "Python 3 (ipykernel)",
   "language": "python",
   "name": "python3"
  },
  "language_info": {
   "codemirror_mode": {
    "name": "ipython",
    "version": 3
   },
   "file_extension": ".py",
   "mimetype": "text/x-python",
   "name": "python",
   "nbconvert_exporter": "python",
   "pygments_lexer": "ipython3",
   "version": "3.11.5"
  }
 },
 "nbformat": 4,
 "nbformat_minor": 5
}
