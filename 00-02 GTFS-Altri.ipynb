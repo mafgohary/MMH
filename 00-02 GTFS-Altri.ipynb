{
 "cells": [
  {
   "cell_type": "code",
   "execution_count": 1,
   "id": "359166d4",
   "metadata": {},
   "outputs": [],
   "source": [
    "import pandas as pd\n",
    "import matplotlib.pyplot as plt"
   ]
  },
  {
   "cell_type": "code",
   "execution_count": 2,
   "id": "0d7edb9b",
   "metadata": {},
   "outputs": [],
   "source": [
    "# Load the data\n",
    "routes_df = pd.read_csv(r\"D:\\15_Polimi\\Polimi_onedrive\\OneDrive - Politecnico di Milano\\Lombardia GTFS\\AltriGestori\\routes.txt\")\n",
    "trips_df = pd.read_csv(r\"D:\\15_Polimi\\Polimi_onedrive\\OneDrive - Politecnico di Milano\\Lombardia GTFS\\AltriGestori\\trips.txt\")\n",
    "stop_times_df = pd.read_csv(r\"D:\\15_Polimi\\Polimi_onedrive\\OneDrive - Politecnico di Milano\\Lombardia GTFS\\AltriGestori\\stop_times.txt\")\n",
    "stops_df = pd.read_csv(r\"D:\\15_Polimi\\Polimi_onedrive\\OneDrive - Politecnico di Milano\\Lombardia GTFS\\AltriGestori\\stops.txt\")"
   ]
  },
  {
   "cell_type": "markdown",
   "id": "d4b64a2e",
   "metadata": {},
   "source": [
    "## Regional Bus"
   ]
  },
  {
   "cell_type": "code",
   "execution_count": null,
   "id": "06327b74",
   "metadata": {},
   "outputs": [],
   "source": [
    "bus_routes = routes_df[routes_df[\"route_type\"] == 3]"
   ]
  },
  {
   "cell_type": "code",
   "execution_count": null,
   "id": "062657d9",
   "metadata": {},
   "outputs": [],
   "source": [
    "bus_trips = trips_df[trips_df[\"route_id\"].isin(bus_routes['route_id'])]"
   ]
  },
  {
   "cell_type": "code",
   "execution_count": null,
   "id": "83bf874a",
   "metadata": {},
   "outputs": [],
   "source": [
    "bus_stop_time=stop_times_df[stop_times_df['trip_id'].isin(bus_trips['trip_id'])]"
   ]
  },
  {
   "cell_type": "code",
   "execution_count": null,
   "id": "5ea11727",
   "metadata": {},
   "outputs": [],
   "source": [
    "bus_stops=bus_stop_time[bus_stop_time['stop_id'].isin(stops_df['stop_id'])]"
   ]
  },
  {
   "cell_type": "code",
   "execution_count": null,
   "id": "c0707046",
   "metadata": {},
   "outputs": [],
   "source": [
    "s=stops_df[stops_df['stop_id'].isin(bus_stops['stop_id'])]"
   ]
  },
  {
   "cell_type": "code",
   "execution_count": null,
   "id": "e68a4ff0",
   "metadata": {},
   "outputs": [],
   "source": [
    "s.drop_duplicates(subset='stop_id', keep='last')"
   ]
  },
  {
   "cell_type": "code",
   "execution_count": null,
   "id": "8ad215cc",
   "metadata": {},
   "outputs": [],
   "source": [
    "s.to_csv(r\"D:\\15_Polimi\\Polimi_onedrive\\OneDrive - Politecnico di Milano\\PhD\\Mapping\\ABC\\ABC-model-18-02-2024\\regional_bus.csv\")"
   ]
  },
  {
   "cell_type": "markdown",
   "id": "2bc93815",
   "metadata": {},
   "source": [
    "## Tram"
   ]
  },
  {
   "cell_type": "code",
   "execution_count": 3,
   "id": "e1f2ae02",
   "metadata": {},
   "outputs": [],
   "source": [
    "tram_routes = routes_df[routes_df[\"route_type\"] == 0]"
   ]
  },
  {
   "cell_type": "code",
   "execution_count": 4,
   "id": "ebf8aff2",
   "metadata": {},
   "outputs": [
    {
     "data": {
      "text/html": [
       "<div>\n",
       "<style scoped>\n",
       "    .dataframe tbody tr th:only-of-type {\n",
       "        vertical-align: middle;\n",
       "    }\n",
       "\n",
       "    .dataframe tbody tr th {\n",
       "        vertical-align: top;\n",
       "    }\n",
       "\n",
       "    .dataframe thead th {\n",
       "        text-align: right;\n",
       "    }\n",
       "</style>\n",
       "<table border=\"1\" class=\"dataframe\">\n",
       "  <thead>\n",
       "    <tr style=\"text-align: right;\">\n",
       "      <th></th>\n",
       "      <th>route_id</th>\n",
       "      <th>route_short_name</th>\n",
       "      <th>route_long_name</th>\n",
       "      <th>agency_id</th>\n",
       "      <th>route_type</th>\n",
       "    </tr>\n",
       "  </thead>\n",
       "  <tbody>\n",
       "    <tr>\n",
       "      <th>755</th>\n",
       "      <td>3625</td>\n",
       "      <td>T1</td>\n",
       "      <td>T1</td>\n",
       "      <td>45</td>\n",
       "      <td>0</td>\n",
       "    </tr>\n",
       "  </tbody>\n",
       "</table>\n",
       "</div>"
      ],
      "text/plain": [
       "     route_id route_short_name route_long_name  agency_id  route_type\n",
       "755      3625               T1              T1         45           0"
      ]
     },
     "execution_count": 4,
     "metadata": {},
     "output_type": "execute_result"
    }
   ],
   "source": [
    "tram_routes"
   ]
  },
  {
   "cell_type": "code",
   "execution_count": 5,
   "id": "fb8c8ec9",
   "metadata": {},
   "outputs": [],
   "source": [
    "tram_trips= trips_df[trips_df[\"route_id\"].isin(tram_routes['route_id'])]"
   ]
  },
  {
   "cell_type": "code",
   "execution_count": 6,
   "id": "0f291f4f",
   "metadata": {},
   "outputs": [
    {
     "data": {
      "text/html": [
       "<div>\n",
       "<style scoped>\n",
       "    .dataframe tbody tr th:only-of-type {\n",
       "        vertical-align: middle;\n",
       "    }\n",
       "\n",
       "    .dataframe tbody tr th {\n",
       "        vertical-align: top;\n",
       "    }\n",
       "\n",
       "    .dataframe thead th {\n",
       "        text-align: right;\n",
       "    }\n",
       "</style>\n",
       "<table border=\"1\" class=\"dataframe\">\n",
       "  <thead>\n",
       "    <tr style=\"text-align: right;\">\n",
       "      <th></th>\n",
       "      <th>route_id</th>\n",
       "      <th>service_id</th>\n",
       "      <th>trip_id</th>\n",
       "    </tr>\n",
       "  </thead>\n",
       "  <tbody>\n",
       "    <tr>\n",
       "      <th>111617</th>\n",
       "      <td>3625</td>\n",
       "      <td>91707</td>\n",
       "      <td>43532960</td>\n",
       "    </tr>\n",
       "    <tr>\n",
       "      <th>111618</th>\n",
       "      <td>3625</td>\n",
       "      <td>91707</td>\n",
       "      <td>43532963</td>\n",
       "    </tr>\n",
       "    <tr>\n",
       "      <th>111619</th>\n",
       "      <td>3625</td>\n",
       "      <td>91707</td>\n",
       "      <td>43532964</td>\n",
       "    </tr>\n",
       "    <tr>\n",
       "      <th>111620</th>\n",
       "      <td>3625</td>\n",
       "      <td>91707</td>\n",
       "      <td>43533127</td>\n",
       "    </tr>\n",
       "    <tr>\n",
       "      <th>111621</th>\n",
       "      <td>3625</td>\n",
       "      <td>91707</td>\n",
       "      <td>43533128</td>\n",
       "    </tr>\n",
       "    <tr>\n",
       "      <th>...</th>\n",
       "      <td>...</td>\n",
       "      <td>...</td>\n",
       "      <td>...</td>\n",
       "    </tr>\n",
       "    <tr>\n",
       "      <th>141902</th>\n",
       "      <td>3625</td>\n",
       "      <td>91722</td>\n",
       "      <td>43542580</td>\n",
       "    </tr>\n",
       "    <tr>\n",
       "      <th>141903</th>\n",
       "      <td>3625</td>\n",
       "      <td>91722</td>\n",
       "      <td>43542581</td>\n",
       "    </tr>\n",
       "    <tr>\n",
       "      <th>141904</th>\n",
       "      <td>3625</td>\n",
       "      <td>91722</td>\n",
       "      <td>43543219</td>\n",
       "    </tr>\n",
       "    <tr>\n",
       "      <th>141905</th>\n",
       "      <td>3625</td>\n",
       "      <td>91722</td>\n",
       "      <td>43543248</td>\n",
       "    </tr>\n",
       "    <tr>\n",
       "      <th>141906</th>\n",
       "      <td>3625</td>\n",
       "      <td>91722</td>\n",
       "      <td>43543249</td>\n",
       "    </tr>\n",
       "  </tbody>\n",
       "</table>\n",
       "<p>2304 rows × 3 columns</p>\n",
       "</div>"
      ],
      "text/plain": [
       "        route_id  service_id   trip_id\n",
       "111617      3625       91707  43532960\n",
       "111618      3625       91707  43532963\n",
       "111619      3625       91707  43532964\n",
       "111620      3625       91707  43533127\n",
       "111621      3625       91707  43533128\n",
       "...          ...         ...       ...\n",
       "141902      3625       91722  43542580\n",
       "141903      3625       91722  43542581\n",
       "141904      3625       91722  43543219\n",
       "141905      3625       91722  43543248\n",
       "141906      3625       91722  43543249\n",
       "\n",
       "[2304 rows x 3 columns]"
      ]
     },
     "execution_count": 6,
     "metadata": {},
     "output_type": "execute_result"
    }
   ],
   "source": [
    "tram_trips"
   ]
  },
  {
   "cell_type": "code",
   "execution_count": 7,
   "id": "5935b82e",
   "metadata": {},
   "outputs": [],
   "source": [
    "tram_stop_time=stop_times_df[stop_times_df['trip_id'].isin(tram_trips['trip_id'])]"
   ]
  },
  {
   "cell_type": "code",
   "execution_count": 8,
   "id": "d987ff97",
   "metadata": {},
   "outputs": [
    {
     "data": {
      "text/html": [
       "<div>\n",
       "<style scoped>\n",
       "    .dataframe tbody tr th:only-of-type {\n",
       "        vertical-align: middle;\n",
       "    }\n",
       "\n",
       "    .dataframe tbody tr th {\n",
       "        vertical-align: top;\n",
       "    }\n",
       "\n",
       "    .dataframe thead th {\n",
       "        text-align: right;\n",
       "    }\n",
       "</style>\n",
       "<table border=\"1\" class=\"dataframe\">\n",
       "  <thead>\n",
       "    <tr style=\"text-align: right;\">\n",
       "      <th></th>\n",
       "      <th>trip_id</th>\n",
       "      <th>stop_id</th>\n",
       "      <th>stop_sequence</th>\n",
       "      <th>arrival_time</th>\n",
       "      <th>departure_time</th>\n",
       "    </tr>\n",
       "  </thead>\n",
       "  <tbody>\n",
       "    <tr>\n",
       "      <th>2879449</th>\n",
       "      <td>43511970</td>\n",
       "      <td>48439</td>\n",
       "      <td>1</td>\n",
       "      <td>19:34:00</td>\n",
       "      <td>19:34:00</td>\n",
       "    </tr>\n",
       "    <tr>\n",
       "      <th>2879450</th>\n",
       "      <td>43511970</td>\n",
       "      <td>48440</td>\n",
       "      <td>2</td>\n",
       "      <td>19:36:00</td>\n",
       "      <td>19:36:00</td>\n",
       "    </tr>\n",
       "    <tr>\n",
       "      <th>2879451</th>\n",
       "      <td>43511970</td>\n",
       "      <td>48441</td>\n",
       "      <td>3</td>\n",
       "      <td>19:37:00</td>\n",
       "      <td>19:37:00</td>\n",
       "    </tr>\n",
       "    <tr>\n",
       "      <th>2879452</th>\n",
       "      <td>43511970</td>\n",
       "      <td>48442</td>\n",
       "      <td>4</td>\n",
       "      <td>19:38:00</td>\n",
       "      <td>19:38:00</td>\n",
       "    </tr>\n",
       "    <tr>\n",
       "      <th>2879453</th>\n",
       "      <td>43511970</td>\n",
       "      <td>48443</td>\n",
       "      <td>5</td>\n",
       "      <td>19:40:00</td>\n",
       "      <td>19:40:00</td>\n",
       "    </tr>\n",
       "    <tr>\n",
       "      <th>...</th>\n",
       "      <td>...</td>\n",
       "      <td>...</td>\n",
       "      <td>...</td>\n",
       "      <td>...</td>\n",
       "      <td>...</td>\n",
       "    </tr>\n",
       "    <tr>\n",
       "      <th>3648299</th>\n",
       "      <td>43543358</td>\n",
       "      <td>48442</td>\n",
       "      <td>4</td>\n",
       "      <td>07:37:00</td>\n",
       "      <td>07:37:00</td>\n",
       "    </tr>\n",
       "    <tr>\n",
       "      <th>3648300</th>\n",
       "      <td>43543358</td>\n",
       "      <td>48443</td>\n",
       "      <td>5</td>\n",
       "      <td>07:39:00</td>\n",
       "      <td>07:39:00</td>\n",
       "    </tr>\n",
       "    <tr>\n",
       "      <th>3648301</th>\n",
       "      <td>43543358</td>\n",
       "      <td>48444</td>\n",
       "      <td>6</td>\n",
       "      <td>07:41:00</td>\n",
       "      <td>07:41:00</td>\n",
       "    </tr>\n",
       "    <tr>\n",
       "      <th>3648302</th>\n",
       "      <td>43543358</td>\n",
       "      <td>48445</td>\n",
       "      <td>7</td>\n",
       "      <td>07:42:00</td>\n",
       "      <td>07:42:00</td>\n",
       "    </tr>\n",
       "    <tr>\n",
       "      <th>3648303</th>\n",
       "      <td>43543358</td>\n",
       "      <td>48446</td>\n",
       "      <td>8</td>\n",
       "      <td>07:44:00</td>\n",
       "      <td>07:44:00</td>\n",
       "    </tr>\n",
       "  </tbody>\n",
       "</table>\n",
       "<p>34080 rows × 5 columns</p>\n",
       "</div>"
      ],
      "text/plain": [
       "          trip_id  stop_id  stop_sequence arrival_time departure_time\n",
       "2879449  43511970    48439              1     19:34:00       19:34:00\n",
       "2879450  43511970    48440              2     19:36:00       19:36:00\n",
       "2879451  43511970    48441              3     19:37:00       19:37:00\n",
       "2879452  43511970    48442              4     19:38:00       19:38:00\n",
       "2879453  43511970    48443              5     19:40:00       19:40:00\n",
       "...           ...      ...            ...          ...            ...\n",
       "3648299  43543358    48442              4     07:37:00       07:37:00\n",
       "3648300  43543358    48443              5     07:39:00       07:39:00\n",
       "3648301  43543358    48444              6     07:41:00       07:41:00\n",
       "3648302  43543358    48445              7     07:42:00       07:42:00\n",
       "3648303  43543358    48446              8     07:44:00       07:44:00\n",
       "\n",
       "[34080 rows x 5 columns]"
      ]
     },
     "execution_count": 8,
     "metadata": {},
     "output_type": "execute_result"
    }
   ],
   "source": [
    "tram_stop_time"
   ]
  },
  {
   "cell_type": "code",
   "execution_count": 9,
   "id": "88fafdca",
   "metadata": {},
   "outputs": [],
   "source": [
    "tram_stops= stops_df[stops_df[\"stop_id\"].isin(tram_stop_time['stop_id'])]"
   ]
  },
  {
   "cell_type": "code",
   "execution_count": 11,
   "id": "8760e1c1",
   "metadata": {},
   "outputs": [
    {
     "name": "stdout",
     "output_type": "stream",
     "text": [
      "<class 'pandas.core.frame.DataFrame'>\n",
      "Index: 30 entries, 15795 to 15830\n",
      "Data columns (total 6 columns):\n",
      " #   Column     Non-Null Count  Dtype  \n",
      "---  ------     --------------  -----  \n",
      " 0   stop_id    30 non-null     int64  \n",
      " 1   stop_code  30 non-null     object \n",
      " 2   stop_name  30 non-null     object \n",
      " 3   stop_desc  30 non-null     object \n",
      " 4   stop_lat   30 non-null     float64\n",
      " 5   stop_lon   30 non-null     float64\n",
      "dtypes: float64(2), int64(1), object(3)\n",
      "memory usage: 1.6+ KB\n"
     ]
    }
   ],
   "source": [
    "tram_stops.info()"
   ]
  },
  {
   "cell_type": "code",
   "execution_count": 12,
   "id": "773d082a",
   "metadata": {},
   "outputs": [],
   "source": [
    "tram_stops.to_csv(r\"D:\\15_Polimi\\Polimi_onedrive\\OneDrive - Politecnico di Milano\\PhD\\Mapping\\ABC\\ABC-model-18-02-2024\\regionaltram.csv\")"
   ]
  },
  {
   "cell_type": "code",
   "execution_count": null,
   "id": "4c82cc74",
   "metadata": {},
   "outputs": [],
   "source": []
  }
 ],
 "metadata": {
  "kernelspec": {
   "display_name": "Python 3 (ipykernel)",
   "language": "python",
   "name": "python3"
  },
  "language_info": {
   "codemirror_mode": {
    "name": "ipython",
    "version": 3
   },
   "file_extension": ".py",
   "mimetype": "text/x-python",
   "name": "python",
   "nbconvert_exporter": "python",
   "pygments_lexer": "ipython3",
   "version": "3.11.5"
  }
 },
 "nbformat": 4,
 "nbformat_minor": 5
}
