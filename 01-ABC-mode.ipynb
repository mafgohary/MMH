{
 "cells": [
  {
   "cell_type": "markdown",
   "id": "d5fb3b4f",
   "metadata": {},
   "source": [
    "# Re adaptation of the ABC location Policy for primarily classifying the Mulimodality conditions in Milan's PUMPS Area."
   ]
  },
  {
   "cell_type": "markdown",
   "id": "d4c84d95",
   "metadata": {},
   "source": [
    "### the model runs in a parts, so you need to run each model, restart Kernal before moving to the other one."
   ]
  },
  {
   "cell_type": "code",
   "execution_count": 1,
   "id": "12f082c5",
   "metadata": {},
   "outputs": [],
   "source": [
    "import geopandas as gpd\n",
    "from shapely.geometry import Point\n",
    "import pandas as pd"
   ]
  },
  {
   "cell_type": "code",
   "execution_count": 2,
   "id": "41db0997",
   "metadata": {},
   "outputs": [],
   "source": [
    "# Load the shapefiles\n",
    "train_gdf = gpd.read_file(r\"D:\\15_Polimi\\Polimi_onedrive\\OneDrive - Politecnico di Milano\\PhD\\Mapping\\ABC\\ABC-model-18-02-2024\\train_stops_PUMS.shp\").to_crs(epsg=32632)\n",
    "metro_gdf = gpd.read_file(r\"D:\\15_Polimi\\Polimi_onedrive\\OneDrive - Politecnico di Milano\\PhD\\Mapping\\ABC\\ABC-model-18-02-2024\\metro_stops_PUMS.shp\").to_crs(epsg=32632)\n",
    "bus_gdf = gpd.read_file(r\"D:\\15_Polimi\\Polimi_onedrive\\OneDrive - Politecnico di Milano\\PhD\\Mapping\\ABC\\ABC-model-18-02-2024\\bus_90.shp\").to_crs(epsg=32632)\n",
    "tram_gdf = gpd.read_file(r\"D:\\15_Polimi\\Polimi_onedrive\\OneDrive - Politecnico di Milano\\PhD\\Mapping\\ABC\\ABC-model-18-02-2024\\tram_pumS.shp\").to_crs(epsg=32632)\n",
    "parking_gdf=gpd.read_file(r\"D:\\15_Polimi\\Polimi_onedrive\\OneDrive - Politecnico di Milano\\PhD Readings\\ABC\\B\\P+R.shp\").to_crs(epsg=32632)\n",
    "reg_bus_gdf=gpd.read_file(r\"D:\\15_Polimi\\Polimi_onedrive\\OneDrive - Politecnico di Milano\\PhD\\Mapping\\ABC\\ABC-model-18-02-2024\\reg-bus.shp\").to_crs(epsg=32632)\n",
    "bus_tranne_90= gpd.read_file(r\"D:\\15_Polimi\\Polimi_onedrive\\OneDrive - Politecnico di Milano\\PhD\\Mapping\\ABC\\ABC-model-18-02-2024\\bus_not_90.shp\").to_crs(epsg=32632)\n",
    "highway_exit= gpd.read_file(r\"D:\\15_Polimi\\Polimi_onedrive\\OneDrive - Politecnico di Milano\\PhD\\Mapping\\ABC\\ABC-model-18-02-2024\\highway_exit.shp\").to_crs(epsg=32632)\n",
    "parking= gpd.read_file(r\"D:\\15_Polimi\\Polimi_onedrive\\OneDrive - Politecnico di Milano\\PhD\\Mapping\\ABC\\ABC-model-18-02-2024\\parking_lot.shp\").to_crs(epsg=32632)\n",
    "#bus_others_gdf=gpd.read_file(r\"D:\\15_Polimi\\Polimi_onedrive\\OneDrive - Politecnico di Milano\\PhD\\Mapping\\ABC\\ABC-22-01-2024\\bus-others.shp\").to_crs(epsg=32632)\n"
   ]
  },
  {
   "cell_type": "code",
   "execution_count": 3,
   "id": "84135ccf",
   "metadata": {},
   "outputs": [],
   "source": [
    "# Adding a column 'int_scr' with the specified values for each DataFrame\n",
    "train_gdf['int_scr'] = 6\n",
    "metro_gdf['int_scr'] = 5\n",
    "tram_gdf['int_scr'] = 4\n",
    "bus_gdf['int_scr'] = 3\n",
    "bus_tranne_90['int_scr'] = 3\n",
    "reg_bus_gdf['int_scr'] = 2\n",
    "parking_gdf['int_scr'] = 1\n",
    "highway_exit['int_scr'] = 1\n",
    "parking['int_scr'] = 1"
   ]
  },
  {
   "cell_type": "markdown",
   "id": "942ae033",
   "metadata": {},
   "source": [
    "## Train_ABC-model"
   ]
  },
  {
   "cell_type": "code",
   "execution_count": null,
   "id": "633844ec",
   "metadata": {},
   "outputs": [],
   "source": [
    "# Merge the point layers into a single GeoDataFrame\n",
    "points_gdf = gpd.GeoDataFrame(pd.concat([metro_gdf, bus_gdf, tram_gdf,parking_gdf,reg_bus_gdf,bus_tranne_90,highway_exit,parking], ignore_index=True))"
   ]
  },
  {
   "cell_type": "code",
   "execution_count": null,
   "id": "6f24af06",
   "metadata": {},
   "outputs": [],
   "source": [
    "# Create a 125-meter buffer around the Train points\n",
    "buffer_distance = 125\n",
    "train_gdf['buffer'] = train_gdf.geometry.buffer(buffer_distance)"
   ]
  },
  {
   "cell_type": "code",
   "execution_count": null,
   "id": "ec658d32",
   "metadata": {},
   "outputs": [],
   "source": [
    "train_scores = {}"
   ]
  },
  {
   "cell_type": "code",
   "execution_count": null,
   "id": "a9e763c4",
   "metadata": {},
   "outputs": [],
   "source": [
    "# Perform the intersection and calculate the sum of unique 'int_scr' values for each buffered train feature\n",
    "for index, train_feature in train_gdf.iterrows():\n",
    "    buffer_zone = train_feature['buffer']\n",
    "    # Find points within the buffer zone\n",
    "    intersected_points = points_gdf[points_gdf.geometry.intersects(buffer_zone)]\n",
    "    # Sum the unique 'int_scr' values\n",
    "    unique_scores = set(intersected_points['int_scr'].tolist())\n",
    "    # Update train_gdf with the unique sum score for each train feature\n",
    "    train_gdf.at[index, 'unique_sum'] = sum(unique_scores)\n",
    "\n",
    "# Now train_gdf has an additional column 'unique_sum' with the calculated scores"
   ]
  },
  {
   "cell_type": "code",
   "execution_count": null,
   "id": "e77957d7",
   "metadata": {},
   "outputs": [],
   "source": [
    "train_gdf.at[index,'unique_sum'] = int(sum(unique_scores))\n",
    "train_gdf['scr_abc']= train_gdf['unique_sum'] + train_gdf ['int_scr']\n",
    "#train_gdf"
   ]
  },
  {
   "cell_type": "code",
   "execution_count": null,
   "id": "41405524",
   "metadata": {},
   "outputs": [],
   "source": [
    "train_gdf.to_csv(r\"D:\\15_Polimi\\Polimi_onedrive\\OneDrive - Politecnico di Milano\\PhD\\Mapping\\ABC\\ABC-model-18-02-2024\\results\\train_scr.csv\")"
   ]
  },
  {
   "cell_type": "markdown",
   "id": "ce698bd6",
   "metadata": {},
   "source": [
    "## METRO ABC MODEL"
   ]
  },
  {
   "cell_type": "code",
   "execution_count": null,
   "id": "6817d430",
   "metadata": {},
   "outputs": [],
   "source": [
    "# Merge the point layers into a single GeoDataFrame\n",
    "per_metro_gdf = gpd.GeoDataFrame(pd.concat([train_gdf, bus_gdf, tram_gdf,parking_gdf,reg_bus_gdf,bus_tranne_90,highway_exit,parking], ignore_index=True))"
   ]
  },
  {
   "cell_type": "code",
   "execution_count": null,
   "id": "73adfdcb",
   "metadata": {},
   "outputs": [],
   "source": [
    "# Create a 125-meter buffer around the Train points\n",
    "buffer_distance = 125\n",
    "metro_gdf['buffer'] = metro_gdf.geometry.buffer(buffer_distance)"
   ]
  },
  {
   "cell_type": "code",
   "execution_count": null,
   "id": "5550ec6c",
   "metadata": {},
   "outputs": [],
   "source": [
    "metro_scores = {}"
   ]
  },
  {
   "cell_type": "code",
   "execution_count": null,
   "id": "142170be",
   "metadata": {},
   "outputs": [],
   "source": [
    "# Perform the intersection and calculate the sum of unique 'int_scr' values for each buffered train feature\n",
    "for index, metro_feature in metro_gdf.iterrows():\n",
    "    buffer_zone = metro_feature['buffer']\n",
    "    # Find points within the buffer zone\n",
    "    intersected_points = per_metro_gdf[per_metro_gdf.geometry.intersects(buffer_zone)]\n",
    "    # Sum the unique 'int_scr' values\n",
    "    unique_scores = set(intersected_points['int_scr'].tolist())\n",
    "    metro_scores[metro_feature['stop_id']] = sum(unique_scores)"
   ]
  },
  {
   "cell_type": "code",
   "execution_count": null,
   "id": "b8ec02ad",
   "metadata": {},
   "outputs": [],
   "source": [
    "# Perform the intersection and calculate the sum of unique 'int_scr' values for each buffered train feature\n",
    "for index, metro_feature in metro_gdf.iterrows():\n",
    "    buffer_zone = metro_feature['buffer']\n",
    "    # Find points within the buffer zone\n",
    "    intersected_points = per_metro_gdf[per_metro_gdf.geometry.intersects(buffer_zone)]\n",
    "    # Sum the unique 'int_scr' values\n",
    "    unique_scores = set(intersected_points['int_scr'].tolist())\n",
    "    # Update train_gdf with the unique sum score for each train feature\n",
    "    metro_gdf.at[index, 'unique_sum'] = sum(unique_scores)\n",
    "\n",
    "# Now metro_gdf has an additional column 'unique_sum' with the calculated scores\n"
   ]
  },
  {
   "cell_type": "code",
   "execution_count": null,
   "id": "528ae3ef",
   "metadata": {},
   "outputs": [],
   "source": [
    "metro_gdf.at[index, 'unique_sum'] = int(sum(unique_scores))\n",
    "metro_gdf['scr_abc']= metro_gdf['unique_sum'] + metro_gdf ['int_scr']\n",
    "metro_gdf"
   ]
  },
  {
   "cell_type": "code",
   "execution_count": null,
   "id": "da31f29c",
   "metadata": {},
   "outputs": [],
   "source": [
    "metro_gdf.to_csv(r\"D:\\15_Polimi\\Polimi_onedrive\\OneDrive - Politecnico di Milano\\PhD\\Mapping\\ABC\\ABC-model-18-02-2024\\results\\metro_scr.csv\")"
   ]
  },
  {
   "cell_type": "markdown",
   "id": "cc078e6f",
   "metadata": {},
   "source": [
    "## TRAM_ABC_MODEL"
   ]
  },
  {
   "cell_type": "code",
   "execution_count": 4,
   "id": "fd8963e9",
   "metadata": {},
   "outputs": [],
   "source": [
    "# Merge the point layers into a single GeoDataFrame\n",
    "per_tram_gdf = gpd.GeoDataFrame(pd.concat([metro_gdf, bus_gdf, train_gdf,parking_gdf,reg_bus_gdf,bus_tranne_90,highway_exit,parking], ignore_index=True))"
   ]
  },
  {
   "cell_type": "code",
   "execution_count": 5,
   "id": "af65360a",
   "metadata": {},
   "outputs": [],
   "source": [
    "# Create a 125-meter buffer around the Train points\n",
    "buffer_distance = 125\n",
    "tram_gdf['buffer'] = tram_gdf.geometry.buffer(buffer_distance)"
   ]
  },
  {
   "cell_type": "code",
   "execution_count": 6,
   "id": "d1c13994",
   "metadata": {},
   "outputs": [
    {
     "data": {
      "text/html": [
       "<div>\n",
       "<style scoped>\n",
       "    .dataframe tbody tr th:only-of-type {\n",
       "        vertical-align: middle;\n",
       "    }\n",
       "\n",
       "    .dataframe tbody tr th {\n",
       "        vertical-align: top;\n",
       "    }\n",
       "\n",
       "    .dataframe thead th {\n",
       "        text-align: right;\n",
       "    }\n",
       "</style>\n",
       "<table border=\"1\" class=\"dataframe\">\n",
       "  <thead>\n",
       "    <tr style=\"text-align: right;\">\n",
       "      <th></th>\n",
       "      <th>field_1</th>\n",
       "      <th>stop_id</th>\n",
       "      <th>stop_code</th>\n",
       "      <th>stop_name</th>\n",
       "      <th>stop_desc</th>\n",
       "      <th>stop_lat</th>\n",
       "      <th>stop_lon</th>\n",
       "      <th>pums</th>\n",
       "      <th>s_lat</th>\n",
       "      <th>s_lon</th>\n",
       "      <th>geometry</th>\n",
       "      <th>int_scr</th>\n",
       "      <th>buffer</th>\n",
       "    </tr>\n",
       "  </thead>\n",
       "  <tbody>\n",
       "    <tr>\n",
       "      <th>0</th>\n",
       "      <td>1.0</td>\n",
       "      <td>14827.0</td>\n",
       "      <td>15_11856</td>\n",
       "      <td>P.ta Venezia M1</td>\n",
       "      <td>P.ta Venezia M1</td>\n",
       "      <td>45.474501</td>\n",
       "      <td>9.205612</td>\n",
       "      <td>no</td>\n",
       "      <td>516071.0176</td>\n",
       "      <td>5035684.195</td>\n",
       "      <td>POINT (516071.018 5035684.195)</td>\n",
       "      <td>4</td>\n",
       "      <td>POLYGON ((516196.018 5035684.195, 516195.416 5...</td>\n",
       "    </tr>\n",
       "    <tr>\n",
       "      <th>1</th>\n",
       "      <td>2.0</td>\n",
       "      <td>14828.0</td>\n",
       "      <td>15_11859</td>\n",
       "      <td>P.le Principessa Clotilde (Osp. Fatebenefratelli)</td>\n",
       "      <td>P.le Principessa Clotilde (Osp. Fatebenefratelli)</td>\n",
       "      <td>45.480406</td>\n",
       "      <td>9.192552</td>\n",
       "      <td>no</td>\n",
       "      <td>515048.6503</td>\n",
       "      <td>5036337.653</td>\n",
       "      <td>POINT (515048.650 5036337.653)</td>\n",
       "      <td>4</td>\n",
       "      <td>POLYGON ((515173.650 5036337.653, 515173.048 5...</td>\n",
       "    </tr>\n",
       "    <tr>\n",
       "      <th>2</th>\n",
       "      <td>9.0</td>\n",
       "      <td>14838.0</td>\n",
       "      <td>15_15049</td>\n",
       "      <td>P.le Cim.Monumentale Via Bramante</td>\n",
       "      <td>P.le Cim.Monumentale Via Bramante</td>\n",
       "      <td>45.483715</td>\n",
       "      <td>9.177737</td>\n",
       "      <td>no</td>\n",
       "      <td>513890.0300</td>\n",
       "      <td>5036702.669</td>\n",
       "      <td>POINT (513890.030 5036702.670)</td>\n",
       "      <td>4</td>\n",
       "      <td>POLYGON ((514015.030 5036702.670, 514014.428 5...</td>\n",
       "    </tr>\n",
       "    <tr>\n",
       "      <th>3</th>\n",
       "      <td>12.0</td>\n",
       "      <td>14842.0</td>\n",
       "      <td>15_12620</td>\n",
       "      <td>V.le Ungheria, 20</td>\n",
       "      <td>V.le Ungheria, 20</td>\n",
       "      <td>45.445864</td>\n",
       "      <td>9.246270</td>\n",
       "      <td>no</td>\n",
       "      <td>519258.6787</td>\n",
       "      <td>5032511.627</td>\n",
       "      <td>POINT (519258.679 5032511.627)</td>\n",
       "      <td>4</td>\n",
       "      <td>POLYGON ((519383.679 5032511.627, 519383.077 5...</td>\n",
       "    </tr>\n",
       "    <tr>\n",
       "      <th>4</th>\n",
       "      <td>15.0</td>\n",
       "      <td>14846.0</td>\n",
       "      <td>15_11323</td>\n",
       "      <td>Cenisio M5</td>\n",
       "      <td>Cenisio M5</td>\n",
       "      <td>45.487559</td>\n",
       "      <td>9.172963</td>\n",
       "      <td>no</td>\n",
       "      <td>513516.0278</td>\n",
       "      <td>5037128.851</td>\n",
       "      <td>POINT (513516.028 5037128.851)</td>\n",
       "      <td>4</td>\n",
       "      <td>POLYGON ((513641.028 5037128.851, 513640.426 5...</td>\n",
       "    </tr>\n",
       "    <tr>\n",
       "      <th>...</th>\n",
       "      <td>...</td>\n",
       "      <td>...</td>\n",
       "      <td>...</td>\n",
       "      <td>...</td>\n",
       "      <td>...</td>\n",
       "      <td>...</td>\n",
       "      <td>...</td>\n",
       "      <td>...</td>\n",
       "      <td>...</td>\n",
       "      <td>...</td>\n",
       "      <td>...</td>\n",
       "      <td>...</td>\n",
       "      <td>...</td>\n",
       "    </tr>\n",
       "    <tr>\n",
       "      <th>784</th>\n",
       "      <td>NaN</td>\n",
       "      <td>NaN</td>\n",
       "      <td>None</td>\n",
       "      <td>None</td>\n",
       "      <td>None</td>\n",
       "      <td>NaN</td>\n",
       "      <td>NaN</td>\n",
       "      <td>yes</td>\n",
       "      <td>518982.4610</td>\n",
       "      <td>5031794.983</td>\n",
       "      <td>POINT (518982.461 5031794.983)</td>\n",
       "      <td>4</td>\n",
       "      <td>POLYGON ((519107.461 5031794.983, 519106.859 5...</td>\n",
       "    </tr>\n",
       "    <tr>\n",
       "      <th>785</th>\n",
       "      <td>NaN</td>\n",
       "      <td>NaN</td>\n",
       "      <td>None</td>\n",
       "      <td>None</td>\n",
       "      <td>None</td>\n",
       "      <td>NaN</td>\n",
       "      <td>NaN</td>\n",
       "      <td>yes</td>\n",
       "      <td>519447.2682</td>\n",
       "      <td>5031958.369</td>\n",
       "      <td>POINT (519447.268 5031958.370)</td>\n",
       "      <td>4</td>\n",
       "      <td>POLYGON ((519572.268 5031958.370, 519571.666 5...</td>\n",
       "    </tr>\n",
       "    <tr>\n",
       "      <th>786</th>\n",
       "      <td>NaN</td>\n",
       "      <td>NaN</td>\n",
       "      <td>None</td>\n",
       "      <td>None</td>\n",
       "      <td>None</td>\n",
       "      <td>NaN</td>\n",
       "      <td>NaN</td>\n",
       "      <td>yes</td>\n",
       "      <td>519558.5402</td>\n",
       "      <td>5032082.318</td>\n",
       "      <td>POINT (519558.540 5032082.319)</td>\n",
       "      <td>4</td>\n",
       "      <td>POLYGON ((519683.540 5032082.319, 519682.938 5...</td>\n",
       "    </tr>\n",
       "    <tr>\n",
       "      <th>787</th>\n",
       "      <td>NaN</td>\n",
       "      <td>NaN</td>\n",
       "      <td>None</td>\n",
       "      <td>None</td>\n",
       "      <td>None</td>\n",
       "      <td>NaN</td>\n",
       "      <td>NaN</td>\n",
       "      <td>yes</td>\n",
       "      <td>519916.3008</td>\n",
       "      <td>5032421.768</td>\n",
       "      <td>POINT (519916.301 5032421.769)</td>\n",
       "      <td>4</td>\n",
       "      <td>POLYGON ((520041.301 5032421.769, 520040.699 5...</td>\n",
       "    </tr>\n",
       "    <tr>\n",
       "      <th>788</th>\n",
       "      <td>NaN</td>\n",
       "      <td>NaN</td>\n",
       "      <td>None</td>\n",
       "      <td>None</td>\n",
       "      <td>None</td>\n",
       "      <td>NaN</td>\n",
       "      <td>NaN</td>\n",
       "      <td>yes</td>\n",
       "      <td>516537.9978</td>\n",
       "      <td>5026703.231</td>\n",
       "      <td>POINT (516537.998 5026703.232)</td>\n",
       "      <td>4</td>\n",
       "      <td>POLYGON ((516662.998 5026703.232, 516662.396 5...</td>\n",
       "    </tr>\n",
       "  </tbody>\n",
       "</table>\n",
       "<p>789 rows × 13 columns</p>\n",
       "</div>"
      ],
      "text/plain": [
       "     field_1  stop_id stop_code  \\\n",
       "0        1.0  14827.0  15_11856   \n",
       "1        2.0  14828.0  15_11859   \n",
       "2        9.0  14838.0  15_15049   \n",
       "3       12.0  14842.0  15_12620   \n",
       "4       15.0  14846.0  15_11323   \n",
       "..       ...      ...       ...   \n",
       "784      NaN      NaN      None   \n",
       "785      NaN      NaN      None   \n",
       "786      NaN      NaN      None   \n",
       "787      NaN      NaN      None   \n",
       "788      NaN      NaN      None   \n",
       "\n",
       "                                             stop_name  \\\n",
       "0                                      P.ta Venezia M1   \n",
       "1    P.le Principessa Clotilde (Osp. Fatebenefratelli)   \n",
       "2                    P.le Cim.Monumentale Via Bramante   \n",
       "3                                    V.le Ungheria, 20   \n",
       "4                                           Cenisio M5   \n",
       "..                                                 ...   \n",
       "784                                               None   \n",
       "785                                               None   \n",
       "786                                               None   \n",
       "787                                               None   \n",
       "788                                               None   \n",
       "\n",
       "                                             stop_desc   stop_lat  stop_lon  \\\n",
       "0                                      P.ta Venezia M1  45.474501  9.205612   \n",
       "1    P.le Principessa Clotilde (Osp. Fatebenefratelli)  45.480406  9.192552   \n",
       "2                    P.le Cim.Monumentale Via Bramante  45.483715  9.177737   \n",
       "3                                    V.le Ungheria, 20  45.445864  9.246270   \n",
       "4                                           Cenisio M5  45.487559  9.172963   \n",
       "..                                                 ...        ...       ...   \n",
       "784                                               None        NaN       NaN   \n",
       "785                                               None        NaN       NaN   \n",
       "786                                               None        NaN       NaN   \n",
       "787                                               None        NaN       NaN   \n",
       "788                                               None        NaN       NaN   \n",
       "\n",
       "    pums        s_lat        s_lon                        geometry  int_scr  \\\n",
       "0     no  516071.0176  5035684.195  POINT (516071.018 5035684.195)        4   \n",
       "1     no  515048.6503  5036337.653  POINT (515048.650 5036337.653)        4   \n",
       "2     no  513890.0300  5036702.669  POINT (513890.030 5036702.670)        4   \n",
       "3     no  519258.6787  5032511.627  POINT (519258.679 5032511.627)        4   \n",
       "4     no  513516.0278  5037128.851  POINT (513516.028 5037128.851)        4   \n",
       "..   ...          ...          ...                             ...      ...   \n",
       "784  yes  518982.4610  5031794.983  POINT (518982.461 5031794.983)        4   \n",
       "785  yes  519447.2682  5031958.369  POINT (519447.268 5031958.370)        4   \n",
       "786  yes  519558.5402  5032082.318  POINT (519558.540 5032082.319)        4   \n",
       "787  yes  519916.3008  5032421.768  POINT (519916.301 5032421.769)        4   \n",
       "788  yes  516537.9978  5026703.231  POINT (516537.998 5026703.232)        4   \n",
       "\n",
       "                                                buffer  \n",
       "0    POLYGON ((516196.018 5035684.195, 516195.416 5...  \n",
       "1    POLYGON ((515173.650 5036337.653, 515173.048 5...  \n",
       "2    POLYGON ((514015.030 5036702.670, 514014.428 5...  \n",
       "3    POLYGON ((519383.679 5032511.627, 519383.077 5...  \n",
       "4    POLYGON ((513641.028 5037128.851, 513640.426 5...  \n",
       "..                                                 ...  \n",
       "784  POLYGON ((519107.461 5031794.983, 519106.859 5...  \n",
       "785  POLYGON ((519572.268 5031958.370, 519571.666 5...  \n",
       "786  POLYGON ((519683.540 5032082.319, 519682.938 5...  \n",
       "787  POLYGON ((520041.301 5032421.769, 520040.699 5...  \n",
       "788  POLYGON ((516662.998 5026703.232, 516662.396 5...  \n",
       "\n",
       "[789 rows x 13 columns]"
      ]
     },
     "execution_count": 6,
     "metadata": {},
     "output_type": "execute_result"
    }
   ],
   "source": [
    "tram_gdf"
   ]
  },
  {
   "cell_type": "markdown",
   "id": "7bfa82d4",
   "metadata": {},
   "source": [
    "tram_scores = {}"
   ]
  },
  {
   "cell_type": "code",
   "execution_count": 7,
   "id": "58bb4b22",
   "metadata": {},
   "outputs": [
    {
     "ename": "NameError",
     "evalue": "name 'tram_scores' is not defined",
     "output_type": "error",
     "traceback": [
      "\u001b[1;31m---------------------------------------------------------------------------\u001b[0m",
      "\u001b[1;31mNameError\u001b[0m                                 Traceback (most recent call last)",
      "Cell \u001b[1;32mIn[7], line 8\u001b[0m\n\u001b[0;32m      6\u001b[0m \u001b[38;5;66;03m# Sum the unique 'int_scr' values\u001b[39;00m\n\u001b[0;32m      7\u001b[0m unique_scores \u001b[38;5;241m=\u001b[39m \u001b[38;5;28mset\u001b[39m(intersected_points[\u001b[38;5;124m'\u001b[39m\u001b[38;5;124mint_scr\u001b[39m\u001b[38;5;124m'\u001b[39m]\u001b[38;5;241m.\u001b[39mtolist())\n\u001b[1;32m----> 8\u001b[0m tram_scores[tram_feature[\u001b[38;5;124m'\u001b[39m\u001b[38;5;124mstop_id\u001b[39m\u001b[38;5;124m'\u001b[39m]] \u001b[38;5;241m=\u001b[39m \u001b[38;5;28msum\u001b[39m(unique_scores)\n",
      "\u001b[1;31mNameError\u001b[0m: name 'tram_scores' is not defined"
     ]
    }
   ],
   "source": [
    "# Perform the intersection and calculate the sum of unique 'int_scr' values for each buffered train feature\n",
    "for index, tram_feature in tram_gdf.iterrows():\n",
    "    buffer_zone = tram_feature['buffer']\n",
    "    # Find points within the buffer zone\n",
    "    intersected_points = per_tram_gdf[per_tram_gdf.geometry.intersects(buffer_zone)]\n",
    "    # Sum the unique 'int_scr' values\n",
    "    unique_scores = set(intersected_points['int_scr'].tolist())\n",
    "    tram_scores[tram_feature['stop_id']] = sum(unique_scores)"
   ]
  },
  {
   "cell_type": "code",
   "execution_count": null,
   "id": "c877be0b",
   "metadata": {},
   "outputs": [],
   "source": [
    "# Perform the intersection and calculate the sum of unique 'int_scr' values for each buffered train feature\n",
    "for index, tram_feature in tram_gdf.iterrows():\n",
    "    buffer_zone = tram_feature['buffer']\n",
    "    # Find points within the buffer zone\n",
    "    intersected_points = per_tram_gdf[per_tram_gdf.geometry.intersects(buffer_zone)]\n",
    "    # Sum the unique 'int_scr' values\n",
    "    unique_scores = set(intersected_points['int_scr'].tolist())\n",
    "    # Update train_gdf with the unique sum score for each train feature\n",
    "    tram_gdf.at[index, 'unique_sum'] = sum(unique_scores)\n",
    "\n",
    "# Now tram_gdf has an additional column 'unique_sum' with the calculated scores\n"
   ]
  },
  {
   "cell_type": "code",
   "execution_count": null,
   "id": "a40635a0",
   "metadata": {},
   "outputs": [],
   "source": [
    "tram_gdf.at[index, 'unique_sum'] = int(sum(unique_scores))\n",
    "tram_gdf['scr_abc']= tram_gdf['unique_sum'] + tram_gdf['int_scr']\n",
    "tram_gdf"
   ]
  },
  {
   "cell_type": "code",
   "execution_count": null,
   "id": "b41f6f81",
   "metadata": {},
   "outputs": [],
   "source": [
    "tram_gdf.to_csv(r\"D:\\15_Polimi\\Polimi_onedrive\\OneDrive - Politecnico di Milano\\PhD\\Mapping\\ABC\\ABC-model-18-02-2024\\results\\tram_scr.csv\")"
   ]
  },
  {
   "cell_type": "markdown",
   "id": "a661ad5a",
   "metadata": {},
   "source": [
    "## BUS_ABC_MODEL"
   ]
  },
  {
   "cell_type": "code",
   "execution_count": null,
   "id": "2ea3474e",
   "metadata": {},
   "outputs": [],
   "source": [
    "# Merge the point layers into a single GeoDataFrame\n",
    "per_bus_gdf = gpd.GeoDataFrame(pd.concat([metro_gdf, train_gdf, tram_gdf,parking_gdf,reg_bus_gdf,bus_tranne_90,highway_exit,parking], ignore_index=True))"
   ]
  },
  {
   "cell_type": "code",
   "execution_count": null,
   "id": "485c48ca",
   "metadata": {},
   "outputs": [],
   "source": [
    "# Create a 125-meter buffer around the Train points\n",
    "buffer_distance = 125\n",
    "bus_gdf['buffer'] = bus_gdf.geometry.buffer(buffer_distance)"
   ]
  },
  {
   "cell_type": "code",
   "execution_count": null,
   "id": "1ebd3e29",
   "metadata": {},
   "outputs": [],
   "source": [
    "bus_scores = {}"
   ]
  },
  {
   "cell_type": "code",
   "execution_count": null,
   "id": "f79a6e6b",
   "metadata": {},
   "outputs": [],
   "source": [
    "# Perform the intersection and calculate the sum of unique 'int_scr' values for each buffered train feature\n",
    "for index, bus_feature in bus_gdf.iterrows():\n",
    "    buffer_zone = bus_feature['buffer']\n",
    "    # Find points within the buffer zone\n",
    "    intersected_points = per_bus_gdf[per_bus_gdf.geometry.intersects(buffer_zone)]\n",
    "    # Sum the unique 'int_scr' values\n",
    "    unique_scores = set(intersected_points['int_scr'].tolist())\n",
    "    bus_scores[bus_feature['stop_id']] = sum(unique_scores)"
   ]
  },
  {
   "cell_type": "code",
   "execution_count": null,
   "id": "1950c63a",
   "metadata": {},
   "outputs": [],
   "source": [
    "# Perform the intersection and calculate the sum of unique 'int_scr' values for each buffered train feature\n",
    "for index, bus_feature in bus_gdf.iterrows():\n",
    "    buffer_zone = bus_feature['buffer']\n",
    "    # Find points within the buffer zone\n",
    "    intersected_points = per_bus_gdf[per_bus_gdf.geometry.intersects(buffer_zone)]\n",
    "    # Sum the unique 'int_scr' values\n",
    "    unique_scores = set(intersected_points['int_scr'].tolist())\n",
    "    # Update train_gdf with the unique sum score for each train feature\n",
    "    bus_gdf.at[index, 'unique_sum'] = sum(unique_scores)\n",
    "\n",
    "# Now tram_gdf has an additional column 'unique_sum' with the calculated scores"
   ]
  },
  {
   "cell_type": "code",
   "execution_count": null,
   "id": "7c1a37bd",
   "metadata": {},
   "outputs": [],
   "source": [
    "bus_gdf.at[index, 'unique_sum'] = int(sum(unique_scores))\n",
    "bus_gdf['scr_abc']= bus_gdf['unique_sum'] + bus_gdf['int_scr']\n",
    "bus_gdf"
   ]
  },
  {
   "cell_type": "code",
   "execution_count": null,
   "id": "c91f7f19",
   "metadata": {},
   "outputs": [],
   "source": [
    "bus_gdf.to_csv(r\"D:\\15_Polimi\\Polimi_onedrive\\OneDrive - Politecnico di Milano\\PhD\\Mapping\\ABC\\ABC-model-18-02-2024\\results\\bus_scr.csv\")"
   ]
  },
  {
   "cell_type": "code",
   "execution_count": null,
   "id": "e32f5436",
   "metadata": {},
   "outputs": [],
   "source": []
  }
 ],
 "metadata": {
  "kernelspec": {
   "display_name": "Python 3 (ipykernel)",
   "language": "python",
   "name": "python3"
  },
  "language_info": {
   "codemirror_mode": {
    "name": "ipython",
    "version": 3
   },
   "file_extension": ".py",
   "mimetype": "text/x-python",
   "name": "python",
   "nbconvert_exporter": "python",
   "pygments_lexer": "ipython3",
   "version": "3.11.5"
  }
 },
 "nbformat": 4,
 "nbformat_minor": 5
}
