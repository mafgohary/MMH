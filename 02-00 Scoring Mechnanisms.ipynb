{
 "cells": [
  {
   "cell_type": "code",
   "execution_count": 6,
   "id": "95576ff3",
   "metadata": {},
   "outputs": [],
   "source": [
    "import geopandas as gpd\n",
    "from shapely.geometry import Point\n",
    "import pandas as pd"
   ]
  },
  {
   "cell_type": "markdown",
   "id": "27e399db",
   "metadata": {},
   "source": [
    "## 1. Loading Scores from 00"
   ]
  },
  {
   "cell_type": "code",
   "execution_count": 7,
   "id": "1ac69852",
   "metadata": {},
   "outputs": [],
   "source": [
    "# Load the dataset\n",
    "train_scr = pd.read_csv(r\"D:\\15_Polimi\\Polimi_onedrive\\OneDrive - Politecnico di Milano\\PhD\\Mapping\\ABC\\ABC-model-18-02-2024\\results\\train_scr.csv\")\n",
    "metro_scr = pd.read_csv(r\"D:\\15_Polimi\\Polimi_onedrive\\OneDrive - Politecnico di Milano\\PhD\\Mapping\\ABC\\ABC-model-18-02-2024\\results\\metro_scr.csv\")\n",
    "tram_scr = pd.read_csv(r\"D:\\15_Polimi\\Polimi_onedrive\\OneDrive - Politecnico di Milano\\PhD\\Mapping\\ABC\\ABC-model-18-02-2024\\results\\tram_scr.csv\")\n",
    "bus_scr = pd.read_csv(r\"D:\\15_Polimi\\Polimi_onedrive\\OneDrive - Politecnico di Milano\\PhD\\Mapping\\ABC\\ABC-model-18-02-2024\\results\\bus_scr.csv\")"
   ]
  },
  {
   "cell_type": "markdown",
   "id": "2f9c1536",
   "metadata": {},
   "source": [
    "## 2. Assining categories "
   ]
  },
  {
   "cell_type": "markdown",
   "id": "40040200",
   "metadata": {},
   "source": [
    "### 2.1 Train"
   ]
  },
  {
   "cell_type": "code",
   "execution_count": null,
   "id": "06317299",
   "metadata": {},
   "outputs": [],
   "source": [
    "gdf=train_scr"
   ]
  },
  {
   "cell_type": "code",
   "execution_count": null,
   "id": "a644aa1d",
   "metadata": {},
   "outputs": [],
   "source": [
    "# Define the assign_\n",
    "def assign_cluster(score, low_threshold, high_threshold):\n",
    "    if score <= low_threshold:\n",
    "        return 'Low'\n",
    "    elif score > low_threshold and score <= high_threshold:\n",
    "        return 'Medium'\n",
    "    else:\n",
    "        return 'High'\n",
    "\n",
    "# Assuming the 'catch_area' column exists and is already calculated as 'scr_abc' * 35\n",
    "gdf['catch_area'] = gdf['scr_abc'] * 35\n",
    "\n",
    "# Calculate the thresholds for clustering\n",
    "low_threshold = gdf['scr_abc'].quantile(0.25)\n",
    "high_threshold = gdf['scr_abc'].quantile(0.75)\n",
    "\n",
    "# Apply the function to create a new column 'Cluster'\n",
    "gdf['Cluster'] = gdf['scr_abc'].apply(lambda x: assign_cluster(x, low_threshold, high_threshold))\n",
    "\n",
    "# Find the maximum 'catch_area' for each cluster\n",
    "max_catch_area_per_cluster = gdf.groupby('Cluster')['catch_area'].transform('max')\n",
    "\n",
    "# Assign the max 'catch_area' to all members of the same cluster\n",
    "gdf['catch_area'] = max_catch_area_per_cluster\n",
    "gdf = gpd.GeoDataFrame(gdf, geometry=gpd.points_from_xy(gdf.s_lon, gdf.s_lat))\n",
    "# Set the original CRS to WGS84 (lat/lon)\n",
    "gdf.crs = 'EPSG:4326'  # WGS 84\n",
    "# Reproject the GeoDataFrame to WGS 84 / UTM zone 32N\n",
    "gdf = gdf.to_crs(epsg=32632)\n",
    "# Select the fields you want to include in the shapefile\n",
    "fields = ['stop_id', 'stop_name', 'stop_desc', 'pums', 's_lat', 's_lon', 'int_scr', 'scr_abc','Cluster', 'catch_area']\n",
    "gdf = gdf[fields]\n",
    "gdf.to_csv(r\"D:\\15_Polimi\\Polimi_onedrive\\OneDrive - Politecnico di Milano\\PhD\\Mapping\\ABC\\ABC-model-18-02-2024\\results\\02-Catchment_area\\02-train_catchment.csv\")"
   ]
  },
  {
   "cell_type": "markdown",
   "id": "46e78898",
   "metadata": {},
   "source": [
    "# WHEN YOU FINISH EXPORTING TRAIN, RESTERT KERNAL AND RUN ONLY TILL 1. Loading Scores from 00"
   ]
  },
  {
   "cell_type": "markdown",
   "id": "7d1c7f38",
   "metadata": {},
   "source": [
    "### 2.2 Metro"
   ]
  },
  {
   "cell_type": "code",
   "execution_count": null,
   "id": "90097a15",
   "metadata": {},
   "outputs": [],
   "source": [
    "gdf=metro_scr"
   ]
  },
  {
   "cell_type": "code",
   "execution_count": null,
   "id": "e72401f7",
   "metadata": {},
   "outputs": [],
   "source": [
    "# Define the assign_\n",
    "def assign_cluster(score, low_threshold, high_threshold):\n",
    "    if score <= low_threshold:\n",
    "        return 'Low'\n",
    "    elif score > low_threshold and score <= high_threshold:\n",
    "        return 'Medium'\n",
    "    else:\n",
    "        return 'High'\n",
    "\n",
    "# Assuming the 'catch_area' column exists and is already calculated as 'scr_abc' * 35\n",
    "gdf['catch_area'] = gdf['scr_abc'] * 35\n",
    "\n",
    "# Calculate the thresholds for clustering\n",
    "low_threshold = gdf['scr_abc'].quantile(0.25)\n",
    "high_threshold = gdf['scr_abc'].quantile(0.75)\n",
    "\n",
    "# Apply the function to create a new column 'Cluster'\n",
    "gdf['Cluster'] = gdf['scr_abc'].apply(lambda x: assign_cluster(x, low_threshold, high_threshold))\n",
    "\n",
    "# Find the maximum 'catch_area' for each cluster\n",
    "max_catch_area_per_cluster = gdf.groupby('Cluster')['catch_area'].transform('max')\n",
    "\n",
    "# Assign the max 'catch_area' to all members of the same cluster\n",
    "gdf['catch_area'] = max_catch_area_per_cluster\n",
    "gdf = gpd.GeoDataFrame(gdf, geometry=gpd.points_from_xy(gdf.s_lon, gdf.s_lat))\n",
    "# Set the original CRS to WGS84 (lat/lon)\n",
    "gdf.crs = 'EPSG:4326'  # WGS 84\n",
    "# Reproject the GeoDataFrame to WGS 84 / UTM zone 32N\n",
    "gdf = gdf.to_crs(epsg=32632)\n",
    "# Select the fields you want to include in the shapefile\n",
    "fields = ['stop_id', 'stop_name', 'stop_desc', 'pums', 's_lat', 's_lon', 'int_scr', 'scr_abc','Cluster', 'catch_area']\n",
    "gdf = gdf[fields]\n",
    "gdf.to_csv(r\"D:\\15_Polimi\\Polimi_onedrive\\OneDrive - Politecnico di Milano\\PhD\\Mapping\\ABC\\ABC-model-18-02-2024\\results\\02-Catchment_area\\02-metro_catchment.csv\")"
   ]
  },
  {
   "cell_type": "markdown",
   "id": "b2a9cf7c",
   "metadata": {},
   "source": [
    "### 2.3 Tram"
   ]
  },
  {
   "cell_type": "code",
   "execution_count": null,
   "id": "c3e15bd4",
   "metadata": {},
   "outputs": [],
   "source": [
    "gdf=tram_scr"
   ]
  },
  {
   "cell_type": "code",
   "execution_count": null,
   "id": "3bb7f7a0",
   "metadata": {},
   "outputs": [],
   "source": [
    "# Define the assign_\n",
    "def assign_cluster(score, low_threshold, high_threshold):\n",
    "    if score <= low_threshold:\n",
    "        return 'Low'\n",
    "    elif score > low_threshold and score <= high_threshold:\n",
    "        return 'Medium'\n",
    "    else:\n",
    "        return 'High'\n",
    "\n",
    "# Assuming the 'catch_area' column exists and is already calculated as 'scr_abc' * 35\n",
    "gdf['catch_area'] = gdf['scr_abc'] * 35\n",
    "\n",
    "# Calculate the thresholds for clustering\n",
    "low_threshold = gdf['scr_abc'].quantile(0.25)\n",
    "high_threshold = gdf['scr_abc'].quantile(0.75)\n",
    "\n",
    "# Apply the function to create a new column 'Cluster'\n",
    "gdf['Cluster'] = gdf['scr_abc'].apply(lambda x: assign_cluster(x, low_threshold, high_threshold))\n",
    "\n",
    "# Find the maximum 'catch_area' for each cluster\n",
    "max_catch_area_per_cluster = gdf.groupby('Cluster')['catch_area'].transform('max')\n",
    "\n",
    "# Assign the max 'catch_area' to all members of the same cluster\n",
    "gdf['catch_area'] = max_catch_area_per_cluster\n",
    "gdf = gpd.GeoDataFrame(gdf, geometry=gpd.points_from_xy(gdf.s_lon, gdf.s_lat))\n",
    "# Set the original CRS to WGS84 (lat/lon)\n",
    "gdf.crs = 'EPSG:4326'  # WGS 84\n",
    "# Reproject the GeoDataFrame to WGS 84 / UTM zone 32N\n",
    "gdf = gdf.to_crs(epsg=32632)\n",
    "# Select the fields you want to include in the shapefile\n",
    "fields = ['stop_id', 'stop_name', 'stop_desc', 'pums', 's_lat', 's_lon', 'int_scr', 'scr_abc','Cluster', 'catch_area']\n",
    "gdf = gdf[fields]\n",
    "gdf.to_csv(r\"D:\\15_Polimi\\Polimi_onedrive\\OneDrive - Politecnico di Milano\\PhD\\Mapping\\ABC\\ABC-model-18-02-2024\\results\\02-Catchment_area\\02-tram_catchment.csv\")"
   ]
  },
  {
   "cell_type": "markdown",
   "id": "bee958c3",
   "metadata": {},
   "source": [
    "### 2.4 Bus"
   ]
  },
  {
   "cell_type": "code",
   "execution_count": 9,
   "id": "c5a9e8b0",
   "metadata": {},
   "outputs": [],
   "source": [
    "gdf=bus_scr"
   ]
  },
  {
   "cell_type": "code",
   "execution_count": 11,
   "id": "26bcff42",
   "metadata": {},
   "outputs": [],
   "source": [
    "# Define the assign_\n",
    "def assign_cluster(score, low_threshold, high_threshold):\n",
    "    if score <= low_threshold:\n",
    "        return 'Low'\n",
    "    elif score > low_threshold and score <= high_threshold:\n",
    "        return 'Medium'\n",
    "    else:\n",
    "        return 'High'\n",
    "\n",
    "# Assuming the 'catch_area' column exists and is already calculated as 'scr_abc' * 35\n",
    "gdf['catch_area'] = gdf['scr_abc'] * 35\n",
    "\n",
    "# Calculate the thresholds for clustering\n",
    "low_threshold = gdf['scr_abc'].quantile(0.25)\n",
    "high_threshold = gdf['scr_abc'].quantile(0.75)\n",
    "\n",
    "# Apply the function to create a new column 'Cluster'\n",
    "gdf['Cluster'] = gdf['scr_abc'].apply(lambda x: assign_cluster(x, low_threshold, high_threshold))\n",
    "\n",
    "# Find the maximum 'catch_area' for each cluster\n",
    "max_catch_area_per_cluster = gdf.groupby('Cluster')['catch_area'].transform('max')\n",
    "\n",
    "# Assign the max 'catch_area' to all members of the same cluster\n",
    "gdf['catch_area'] = max_catch_area_per_cluster\n",
    "gdf = gpd.GeoDataFrame(gdf, geometry=gpd.points_from_xy(gdf.s_lon, gdf.s_lat))\n",
    "# Set the original CRS to WGS84 (lat/lon)\n",
    "gdf.crs = 'EPSG:4326'  # WGS 84\n",
    "# Reproject the GeoDataFrame to WGS 84 / UTM zone 32N\n",
    "gdf = gdf.to_crs(epsg=32632)\n",
    "# Select the fields you want to include in the shapefile\n",
    "fields = ['stop_id', 'stop_name', 'stop_desc', 's_lat', 's_lon', 'int_scr', 'scr_abc','Cluster', 'catch_area']\n",
    "gdf = gdf[fields]\n",
    "gdf.to_csv(r\"D:\\15_Polimi\\Polimi_onedrive\\OneDrive - Politecnico di Milano\\PhD\\Mapping\\ABC\\ABC-model-18-02-2024\\results\\02-Catchment_area\\02-bus_catchment.csv\")"
   ]
  },
  {
   "cell_type": "code",
   "execution_count": null,
   "id": "51b1dd88",
   "metadata": {},
   "outputs": [],
   "source": []
  }
 ],
 "metadata": {
  "kernelspec": {
   "display_name": "Python 3 (ipykernel)",
   "language": "python",
   "name": "python3"
  },
  "language_info": {
   "codemirror_mode": {
    "name": "ipython",
    "version": 3
   },
   "file_extension": ".py",
   "mimetype": "text/x-python",
   "name": "python",
   "nbconvert_exporter": "python",
   "pygments_lexer": "ipython3",
   "version": "3.11.5"
  }
 },
 "nbformat": 4,
 "nbformat_minor": 5
}
