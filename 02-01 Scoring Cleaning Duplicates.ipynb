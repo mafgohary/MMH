{
 "cells": [
  {
   "cell_type": "code",
   "execution_count": 1,
   "id": "cdd3c8c2",
   "metadata": {},
   "outputs": [],
   "source": [
    "import pandas as pd"
   ]
  },
  {
   "cell_type": "code",
   "execution_count": 2,
   "id": "d97b5f1d",
   "metadata": {},
   "outputs": [],
   "source": [
    "# Load the dataset\n",
    "bus = pd.read_csv(r\"D:\\15_Polimi\\Polimi_onedrive\\OneDrive - Politecnico di Milano\\PhD\\Mapping\\ABC\\ABC-model-18-02-2024\\results\\02-Catchment_area\\02-bus_catchment.csv\")\n",
    "tram = pd.read_csv(r\"D:\\15_Polimi\\Polimi_onedrive\\OneDrive - Politecnico di Milano\\PhD\\Mapping\\ABC\\ABC-model-18-02-2024\\results\\02-Catchment_area\\02-tram_catchment.csv\")"
   ]
  },
  {
   "cell_type": "markdown",
   "id": "fd4c3665",
   "metadata": {},
   "source": [
    "# BUS"
   ]
  },
  {
   "cell_type": "code",
   "execution_count": null,
   "id": "0024bb53",
   "metadata": {},
   "outputs": [],
   "source": [
    "data = bus"
   ]
  },
  {
   "cell_type": "code",
   "execution_count": null,
   "id": "1a0035f2",
   "metadata": {},
   "outputs": [],
   "source": [
    "# Group data by 'stop_name' and 'scr_abc' to identify identical rows\n",
    "grouped = data.groupby(['stop_name', 'scr_abc'])"
   ]
  },
  {
   "cell_type": "code",
   "execution_count": null,
   "id": "a922c508",
   "metadata": {},
   "outputs": [],
   "source": [
    "# Initialize a list to hold the processed rows\n",
    "processed_rows = []"
   ]
  },
  {
   "cell_type": "code",
   "execution_count": null,
   "id": "44290c21",
   "metadata": {},
   "outputs": [],
   "source": [
    "for _, group in grouped:\n",
    "    if len(group) > 1:  # Check if there are identical rows\n",
    "        # Calculate the midpoint of s_lat and s_lon for the group\n",
    "        mid_s_lat = group['s_lat'].mean()\n",
    "        mid_s_lon = group['s_lon'].mean()\n",
    "\n",
    "        # Keep the first record's parameters for other fields\n",
    "        first_record = group.iloc[0].copy()\n",
    "        first_record['s_lat'] = mid_s_lat\n",
    "        first_record['s_lon'] = mid_s_lon\n",
    "\n",
    "        processed_rows.append(first_record)\n",
    "    else:\n",
    "        # If there's only one row in the group, just append it\n",
    "        processed_rows.append(group.iloc[0])"
   ]
  },
  {
   "cell_type": "code",
   "execution_count": null,
   "id": "e73cd3fc",
   "metadata": {},
   "outputs": [],
   "source": [
    "# Create a new DataFrame from the processed rows\n",
    "processed_data = pd.DataFrame(processed_rows).reset_index(drop=True)\n",
    "processed_data.to_csv(r\"D:\\15_Polimi\\Polimi_onedrive\\OneDrive - Politecnico di Milano\\PhD\\Mapping\\ABC\\ABC-model-18-02-2024\\results\\02-Catchment_area\\02-01-bus_catchment.csv\")"
   ]
  },
  {
   "cell_type": "markdown",
   "id": "3c421781",
   "metadata": {},
   "source": [
    "# TRAM"
   ]
  },
  {
   "cell_type": "code",
   "execution_count": null,
   "id": "4dec1961",
   "metadata": {},
   "outputs": [],
   "source": [
    "data = tram"
   ]
  },
  {
   "cell_type": "code",
   "execution_count": null,
   "id": "63f88512",
   "metadata": {},
   "outputs": [],
   "source": [
    "# Group data by 'stop_name' and 'scr_abc' to identify identical rows\n",
    "grouped = data.groupby(['stop_name', 'scr_abc'])"
   ]
  },
  {
   "cell_type": "code",
   "execution_count": null,
   "id": "0d514970",
   "metadata": {},
   "outputs": [],
   "source": [
    "# Initialize a list to hold the processed rows\n",
    "processed_rows = []"
   ]
  },
  {
   "cell_type": "code",
   "execution_count": null,
   "id": "76601c18",
   "metadata": {},
   "outputs": [],
   "source": [
    "processed_rows = []\n",
    "\n",
    "for _, group in grouped:\n",
    "    # Skip the group if 'stop_name' is NaN or if 'pums' is 'yes'\n",
    "    if pd.isna(group['stop_name'].iloc[0]) or (group['pums'].iloc[0].lower() == 'yes'):\n",
    "        processed_rows.append(group.iloc[0])\n",
    "        continue\n",
    "    \n",
    "    if len(group) > 1:\n",
    "        # Calculate the midpoint of Lat and Lon for the group\n",
    "        mid_s_lat = group['s_lat'].mean()\n",
    "        mid_s_lon = group['s_lon'].mean()\n",
    "\n",
    "        # Keep the first record's parameters for other fields\n",
    "        first_record = group.iloc[0].copy()\n",
    "        first_record['s_lat'] = mid_s_lat\n",
    "        first_record['s_lon'] = mid_s_lon\n",
    "\n",
    "        processed_rows.append(first_record)\n",
    "    else:\n",
    "        # If there's only one row in the group, just append it\n",
    "        processed_rows.append(group.iloc[0])\n",
    "\n",
    "# Create a new DataFrame from the processed rows\n",
    "processed_data = pd.DataFrame(processed_rows).reset_index(drop=True)\n"
   ]
  },
  {
   "cell_type": "code",
   "execution_count": null,
   "id": "fb4aae6d",
   "metadata": {},
   "outputs": [],
   "source": [
    "# Create a new DataFrame from the processed rows\n",
    "processed_data = pd.DataFrame(processed_rows).reset_index(drop=True)\n",
    "processed_data.to_csv(r\"D:\\15_Polimi\\Polimi_onedrive\\OneDrive - Politecnico di Milano\\PhD\\Mapping\\ABC\\ABC-model-18-02-2024\\results\\02-Catchment_area\\02-01-tram_catchment1.csv\")"
   ]
  },
  {
   "cell_type": "code",
   "execution_count": null,
   "id": "3267b2cb",
   "metadata": {},
   "outputs": [],
   "source": [
    "processed_data"
   ]
  },
  {
   "cell_type": "code",
   "execution_count": null,
   "id": "58a87668",
   "metadata": {},
   "outputs": [],
   "source": []
  },
  {
   "cell_type": "code",
   "execution_count": null,
   "id": "b277019f",
   "metadata": {},
   "outputs": [],
   "source": []
  }
 ],
 "metadata": {
  "kernelspec": {
   "display_name": "Python 3 (ipykernel)",
   "language": "python",
   "name": "python3"
  },
  "language_info": {
   "codemirror_mode": {
    "name": "ipython",
    "version": 3
   },
   "file_extension": ".py",
   "mimetype": "text/x-python",
   "name": "python",
   "nbconvert_exporter": "python",
   "pygments_lexer": "ipython3",
   "version": "3.11.5"
  }
 },
 "nbformat": 4,
 "nbformat_minor": 5
}
