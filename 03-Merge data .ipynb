{
 "cells": [
  {
   "cell_type": "code",
   "execution_count": 1,
   "id": "f3d6ba30",
   "metadata": {},
   "outputs": [],
   "source": [
    "import pandas as pd"
   ]
  },
  {
   "cell_type": "markdown",
   "id": "1b3fac0a",
   "metadata": {},
   "source": [
    "# BUS"
   ]
  },
  {
   "cell_type": "code",
   "execution_count": null,
   "id": "27eb7069",
   "metadata": {},
   "outputs": [],
   "source": [
    "n01_bus = pd.read_csv(r\"D:\\15_Polimi\\Polimi_onedrive\\OneDrive - Politecnico di Milano\\PhD\\Mapping\\ABC\\ABC-model-18-02-2024\\results\\n_01\\outputs\\n01-bus.csv\")\n",
    "n02_bus = pd.read_csv(r\"D:\\15_Polimi\\Polimi_onedrive\\OneDrive - Politecnico di Milano\\PhD\\Mapping\\ABC\\ABC-model-18-02-2024\\results\\n_02\\outputs\\n02-bus.csv\")\n",
    "n03_bus = pd.read_csv(r\"D:\\15_Polimi\\Polimi_onedrive\\OneDrive - Politecnico di Milano\\PhD\\Mapping\\ABC\\ABC-model-18-02-2024\\results\\n_03\\outputs\\n03-bus.csv\")\n",
    "n04_bus = pd.read_csv(r\"D:\\15_Polimi\\Polimi_onedrive\\OneDrive - Politecnico di Milano\\PhD\\Mapping\\ABC\\ABC-model-18-02-2024\\results\\n_04\\output\\n04-bus.csv\")\n",
    "n05_bus = pd.read_csv(r\"D:\\15_Polimi\\Polimi_onedrive\\OneDrive - Politecnico di Milano\\PhD\\Mapping\\ABC\\ABC-model-18-02-2024\\results\\n_05\\outputs\\n05-bus.csv\")"
   ]
  },
  {
   "cell_type": "code",
   "execution_count": null,
   "id": "b29ad384",
   "metadata": {},
   "outputs": [],
   "source": [
    "# Start with the first DataFrame and merge the others one by one on 'stop_id'\n",
    "merged_df = pd.merge(n01_bus, n02_bus[['stop_id', 'N2_1', 'N2_2']], on='stop_id', how='outer')\n",
    "merged_df = pd.merge(merged_df, n03_bus[['stop_id', 'N3_1', 'N3_2', 'N3_3']], on='stop_id', how='outer')\n",
    "merged_df = pd.merge(merged_df, n04_bus[['stop_id', 'N4_1', 'N4_2']], on='stop_id', how='outer')\n",
    "merged_df = pd.merge(merged_df, n05_bus[['stop_id', 'n5_1', 'n5_2']], on='stop_id', how='outer')\n"
   ]
  },
  {
   "cell_type": "code",
   "execution_count": null,
   "id": "1b32cf08",
   "metadata": {},
   "outputs": [],
   "source": [
    "merged_df.drop(['Unnamed: 0', 'field_1'], axis=1, inplace=True, errors='ignore')"
   ]
  },
  {
   "cell_type": "code",
   "execution_count": null,
   "id": "19bbadf3",
   "metadata": {},
   "outputs": [],
   "source": [
    "merged_df.to_csv(r\"D:\\15_Polimi\\Polimi_onedrive\\OneDrive - Politecnico di Milano\\PhD\\Mapping\\ABC\\ABC-model-18-02-2024\\results\\03-Merged\\bus-pums.csv\", index=False)"
   ]
  },
  {
   "cell_type": "markdown",
   "id": "94e68b00",
   "metadata": {},
   "source": [
    "#  Train"
   ]
  },
  {
   "cell_type": "code",
   "execution_count": null,
   "id": "fa35a376",
   "metadata": {},
   "outputs": [],
   "source": [
    "n01_train = pd.read_csv(r\"D:\\15_Polimi\\Polimi_onedrive\\OneDrive - Politecnico di Milano\\PhD\\Mapping\\ABC\\ABC-model-18-02-2024\\results\\n_01\\outputs\\n01-train.csv\")\n",
    "n02_train = pd.read_csv(r\"D:\\15_Polimi\\Polimi_onedrive\\OneDrive - Politecnico di Milano\\PhD\\Mapping\\ABC\\ABC-model-18-02-2024\\results\\n_02\\outputs\\n02-train.csv\")\n",
    "n03_train = pd.read_csv(r\"D:\\15_Polimi\\Polimi_onedrive\\OneDrive - Politecnico di Milano\\PhD\\Mapping\\ABC\\ABC-model-18-02-2024\\results\\n_03\\outputs\\n03-train.csv\")\n",
    "n04_train = pd.read_csv(r\"D:\\15_Polimi\\Polimi_onedrive\\OneDrive - Politecnico di Milano\\PhD\\Mapping\\ABC\\ABC-model-18-02-2024\\results\\n_04\\output\\n04-train.csv\")\n",
    "n05_train = pd.read_csv(r\"D:\\15_Polimi\\Polimi_onedrive\\OneDrive - Politecnico di Milano\\PhD\\Mapping\\ABC\\ABC-model-18-02-2024\\results\\n_05\\outputs\\n05-train.csv\")"
   ]
  },
  {
   "cell_type": "code",
   "execution_count": null,
   "id": "1b6bfd35",
   "metadata": {},
   "outputs": [],
   "source": [
    "# Start with the first DataFrame and merge the others one by one on 'stop_id'\n",
    "merged_df = pd.merge(n01_train, n02_train[['field_1', 'N2_1', 'N2_2']], on='field_1', how='outer')\n",
    "merged_df = pd.merge(merged_df, n03_train[['field_1', 'N3_1', 'N3_2', 'N3_3']], on='field_1', how='outer')\n",
    "merged_df = pd.merge(merged_df, n04_train[['field_1', 'N4_1', 'N4_2']], on='field_1', how='outer')\n",
    "merged_df = pd.merge(merged_df, n05_train[['field_1', 'N5_1', 'N5_2']], on='field_1', how='outer')"
   ]
  },
  {
   "cell_type": "code",
   "execution_count": null,
   "id": "9697f66c",
   "metadata": {},
   "outputs": [],
   "source": [
    "merged_df.drop(['Unnamed: 0', 'field_1'], axis=1, inplace=True, errors='ignore')"
   ]
  },
  {
   "cell_type": "code",
   "execution_count": null,
   "id": "d96597bd",
   "metadata": {},
   "outputs": [],
   "source": [
    "merged_df.to_csv(r\"D:\\15_Polimi\\Polimi_onedrive\\OneDrive - Politecnico di Milano\\PhD\\Mapping\\ABC\\ABC-model-18-02-2024\\results\\03-Merged\\train-pums.csv\", index=False)"
   ]
  },
  {
   "cell_type": "markdown",
   "id": "638a4492",
   "metadata": {},
   "source": [
    "# METRO"
   ]
  },
  {
   "cell_type": "code",
   "execution_count": null,
   "id": "c302d454",
   "metadata": {},
   "outputs": [],
   "source": [
    "n01_metro = pd.read_csv(r\"D:\\15_Polimi\\Polimi_onedrive\\OneDrive - Politecnico di Milano\\PhD\\Mapping\\ABC\\ABC-model-18-02-2024\\results\\n_01\\outputs\\n01-metro.csv\")\n",
    "n02_metro = pd.read_csv(r\"D:\\15_Polimi\\Polimi_onedrive\\OneDrive - Politecnico di Milano\\PhD\\Mapping\\ABC\\ABC-model-18-02-2024\\results\\n_02\\outputs\\n02-metro.csv\")\n",
    "n03_metro = pd.read_csv(r\"D:\\15_Polimi\\Polimi_onedrive\\OneDrive - Politecnico di Milano\\PhD\\Mapping\\ABC\\ABC-model-18-02-2024\\results\\n_03\\outputs\\n03-metro.csv\")\n",
    "n04_metro = pd.read_csv(r\"D:\\15_Polimi\\Polimi_onedrive\\OneDrive - Politecnico di Milano\\PhD\\Mapping\\ABC\\ABC-model-18-02-2024\\results\\n_04\\output\\n04-metro.csv\")\n",
    "n05_metro = pd.read_csv(r\"D:\\15_Polimi\\Polimi_onedrive\\OneDrive - Politecnico di Milano\\PhD\\Mapping\\ABC\\ABC-model-18-02-2024\\results\\n_05\\outputs\\n05-metro.csv\")"
   ]
  },
  {
   "cell_type": "code",
   "execution_count": null,
   "id": "bb19d2bf",
   "metadata": {},
   "outputs": [],
   "source": [
    "# Start with the first DataFrame and merge the others one by one on 'stop_id'\n",
    "merged_df = pd.merge(n01_metro, n02_metro[['field_1', 'N2_1', 'N2_2']], on='field_1', how='outer')\n",
    "merged_df = pd.merge(merged_df, n03_metro[['field_1', 'N3_1', 'N3_2', 'N3_3']], on='field_1', how='outer')\n",
    "merged_df = pd.merge(merged_df, n04_metro[['field_1', 'N4_1', 'N4_2']], on='field_1', how='outer')\n",
    "merged_df = pd.merge(merged_df, n05_metro[['field_1', 'N5_1', 'N5_2']], on='field_1', how='outer')"
   ]
  },
  {
   "cell_type": "code",
   "execution_count": null,
   "id": "a9d96b5a",
   "metadata": {},
   "outputs": [],
   "source": [
    "merged_df.drop(['Unnamed: 0', 'field_1'], axis=1, inplace=True, errors='ignore')"
   ]
  },
  {
   "cell_type": "code",
   "execution_count": null,
   "id": "0eebb9d1",
   "metadata": {},
   "outputs": [],
   "source": [
    "merged_df.to_csv(r\"D:\\15_Polimi\\Polimi_onedrive\\OneDrive - Politecnico di Milano\\PhD\\Mapping\\ABC\\ABC-model-18-02-2024\\results\\03-Merged\\metro-pums.csv\", index=False)"
   ]
  },
  {
   "cell_type": "markdown",
   "id": "be3f1f35",
   "metadata": {},
   "source": [
    "# TRAM"
   ]
  },
  {
   "cell_type": "code",
   "execution_count": 2,
   "id": "ab451ea4",
   "metadata": {},
   "outputs": [],
   "source": [
    "n01_tram = pd.read_csv(r\"D:\\15_Polimi\\Polimi_onedrive\\OneDrive - Politecnico di Milano\\PhD\\Mapping\\ABC\\ABC-model-18-02-2024\\results\\n_01\\outputs\\n01-tram.csv\")\n",
    "n02_tram = pd.read_csv(r\"D:\\15_Polimi\\Polimi_onedrive\\OneDrive - Politecnico di Milano\\PhD\\Mapping\\ABC\\ABC-model-18-02-2024\\results\\n_02\\outputs\\n02-tram.csv\")\n",
    "n03_tram = pd.read_csv(r\"D:\\15_Polimi\\Polimi_onedrive\\OneDrive - Politecnico di Milano\\PhD\\Mapping\\ABC\\ABC-model-18-02-2024\\results\\n_03\\outputs\\n03-tram.csv\")\n",
    "n04_tram = pd.read_csv(r\"D:\\15_Polimi\\Polimi_onedrive\\OneDrive - Politecnico di Milano\\PhD\\Mapping\\ABC\\ABC-model-18-02-2024\\results\\n_04\\output\\n04-tram.csv\")\n",
    "n05_tram = pd.read_csv(r\"D:\\15_Polimi\\Polimi_onedrive\\OneDrive - Politecnico di Milano\\PhD\\Mapping\\ABC\\ABC-model-18-02-2024\\results\\n_05\\outputs\\n05-tram.csv\")"
   ]
  },
  {
   "cell_type": "code",
   "execution_count": 3,
   "id": "265b63ef",
   "metadata": {},
   "outputs": [],
   "source": [
    "# Start with the first DataFrame and merge the others one by one on 'stop_id'\n",
    "merged_df = pd.merge(n01_tram, n02_tram[['s_lat', 'N2_1', 'N2_2']], on='s_lat', how='outer')\n",
    "merged_df = pd.merge(merged_df, n03_tram[['s_lat', 'N3_1', 'N3_2', 'N3_3']], on='s_lat', how='outer')\n",
    "merged_df = pd.merge(merged_df, n04_tram[['s_lat', 'N4_1', 'N4_2']], on='s_lat', how='outer')\n",
    "merged_df = pd.merge(merged_df, n05_tram[['s_lat', 'N5_1', 'N5_2']], on='s_lat', how='outer')"
   ]
  },
  {
   "cell_type": "code",
   "execution_count": 4,
   "id": "39913095",
   "metadata": {},
   "outputs": [],
   "source": [
    "merged_df.drop(['Unnamed: 0', 'field_1'], axis=1, inplace=True, errors='ignore')"
   ]
  },
  {
   "cell_type": "code",
   "execution_count": 5,
   "id": "b4826414",
   "metadata": {},
   "outputs": [],
   "source": [
    "merged_df.to_csv(r\"D:\\15_Polimi\\Polimi_onedrive\\OneDrive - Politecnico di Milano\\PhD\\Mapping\\ABC\\ABC-model-18-02-2024\\results\\03-Merged\\tram-pums.csv\", index=False)"
   ]
  },
  {
   "cell_type": "code",
   "execution_count": null,
   "id": "8efbc4c4",
   "metadata": {},
   "outputs": [],
   "source": [
    "merged_df"
   ]
  },
  {
   "cell_type": "code",
   "execution_count": null,
   "id": "622634eb",
   "metadata": {},
   "outputs": [],
   "source": []
  }
 ],
 "metadata": {
  "kernelspec": {
   "display_name": "Python 3 (ipykernel)",
   "language": "python",
   "name": "python3"
  },
  "language_info": {
   "codemirror_mode": {
    "name": "ipython",
    "version": 3
   },
   "file_extension": ".py",
   "mimetype": "text/x-python",
   "name": "python",
   "nbconvert_exporter": "python",
   "pygments_lexer": "ipython3",
   "version": "3.11.5"
  }
 },
 "nbformat": 4,
 "nbformat_minor": 5
}
