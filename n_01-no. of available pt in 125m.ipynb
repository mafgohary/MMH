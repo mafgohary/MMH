{
 "cells": [
  {
   "cell_type": "code",
   "execution_count": 1,
   "id": "49750775",
   "metadata": {},
   "outputs": [],
   "source": [
    "import geopandas as gpd\n",
    "from shapely.geometry import Point\n",
    "import pandas as pd"
   ]
  },
  {
   "cell_type": "code",
   "execution_count": 2,
   "id": "2a20db12",
   "metadata": {},
   "outputs": [],
   "source": [
    "# Load the dataset\n",
    "train_gdf  = gpd.read_file(r\"D:\\15_Polimi\\Polimi_onedrive\\OneDrive - Politecnico di Milano\\PhD\\Mapping\\ABC\\ABC-model-18-02-2024\\results\\n_01\\inputs\\n_1_train.shp\")\n",
    "metro_gdf = gpd.read_file(r\"D:\\15_Polimi\\Polimi_onedrive\\OneDrive - Politecnico di Milano\\PhD\\Mapping\\ABC\\ABC-model-18-02-2024\\results\\n_01\\inputs\\n_1_metro.shp\")\n",
    "tram_gdf = gpd.read_file(r\"D:\\15_Polimi\\Polimi_onedrive\\OneDrive - Politecnico di Milano\\PhD\\Mapping\\ABC\\ABC-model-18-02-2024\\results\\n_01\\inputs\\n_1_tram.shp\")\n",
    "bus_gdf = gpd.read_file(r\"D:\\15_Polimi\\Polimi_onedrive\\OneDrive - Politecnico di Milano\\PhD\\Mapping\\ABC\\ABC-model-18-02-2024\\results\\n_01\\inputs\\n_1_bus.shp\")\n",
    "bus_tranne_90_gdf= gpd.read_file(r\"D:\\15_Polimi\\Polimi_onedrive\\OneDrive - Politecnico di Milano\\PhD\\Mapping\\ABC\\ABC-model-18-02-2024\\results\\n_01\\inputs\\n_1_bus_not_90.shp\")\n",
    "regional_bus_gdf= gpd.read_file(r\"D:\\15_Polimi\\Polimi_onedrive\\OneDrive - Politecnico di Milano\\PhD\\Mapping\\ABC\\ABC-model-18-02-2024\\results\\n_01\\inputs\\n_1_reg_bus.shp\")"
   ]
  },
  {
   "cell_type": "markdown",
   "id": "d7ee1480",
   "metadata": {},
   "source": [
    "## Change the data frames to Geodata frames CPSG 32632"
   ]
  },
  {
   "cell_type": "markdown",
   "id": "7a63b0df",
   "metadata": {},
   "source": [
    "## Calculate N-01 for Trains"
   ]
  },
  {
   "cell_type": "code",
   "execution_count": null,
   "id": "34b1dec1",
   "metadata": {},
   "outputs": [],
   "source": [
    "# List of GeoDataFrames to merge\n",
    "gdf_list = [metro_gdf, tram_gdf, bus_gdf, bus_tranne_90_gdf, regional_bus_gdf]\n",
    "\n",
    "# Merge all the GeoDataFrames into one using pd.concat\n",
    "merged_gdf = pd.concat(gdf_list, ignore_index=True)\n",
    "merged_gdf = merged_gdf[['stop_id', 'stop_name', 'geometry']]\n",
    "\n",
    "# Ensure that train_gdf's CRS matches the merged_gdf's CRS\n",
    "train_gdf = train_gdf.to_crs(merged_gdf.crs)\n",
    "\n",
    "# Buffer the train geometries by 125 meters\n",
    "train_gdf['buffered'] = train_gdf.geometry.buffer(125)\n",
    "\n",
    "# Create a spatial join between the buffered train geometries and the merged points\n",
    "points_within_buffer = gpd.sjoin(merged_gdf, train_gdf.set_geometry('buffered'), how='inner', op='within')\n",
    "\n",
    "# Count the number of points within each buffer and assign it to the 'N_1' column in train_gdf\n",
    "# The count is grouped by the index of the train_gdf which is preserved in 'index_right' during the spatial join\n",
    "train_gdf['N_1'] = points_within_buffer.groupby('index_right').size()\n",
    "\n",
    "# Fill NaN values with 0 for buffers that had no points within them\n",
    "train_gdf['N_1'] = train_gdf['N_1'].fillna(0).astype(int)\n",
    "\n",
    "# If the 'buffered' column is not needed, drop it to clean up the DataFrame\n",
    "train_gdf.drop(columns='buffered', inplace=True)\n",
    "\n",
    "# Now train_gdf will have a column 'N_1' with the count of points within the 125-meter buffer"
   ]
  },
  {
   "cell_type": "code",
   "execution_count": null,
   "id": "2b5fa3fb",
   "metadata": {},
   "outputs": [],
   "source": [
    "train_gdf.to_csv(r\"D:\\15_Polimi\\Polimi_onedrive\\OneDrive - Politecnico di Milano\\PhD\\Mapping\\ABC\\ABC-model-18-02-2024\\results\\n_01\\outputs\\n01-train.csv\")"
   ]
  },
  {
   "cell_type": "markdown",
   "id": "0ae43d72",
   "metadata": {},
   "source": [
    "## Calculate N-01 for Metro"
   ]
  },
  {
   "cell_type": "code",
   "execution_count": null,
   "id": "1bfa35a4",
   "metadata": {},
   "outputs": [],
   "source": [
    "# List of GeoDataFrames to merge\n",
    "gdf_list = [train_gdf, tram_gdf, bus_gdf, bus_tranne_90_gdf, regional_bus_gdf]\n",
    "\n",
    "# Merge all the GeoDataFrames into one using pd.concat\n",
    "merged_gdf = pd.concat(gdf_list, ignore_index=True)\n",
    "merged_gdf = merged_gdf[['stop_id', 'stop_name', 'geometry']]\n",
    "\n",
    "# Ensure that train_gdf's CRS matches the merged_gdf's CRS\n",
    "metro_gdf = metro_gdf.to_crs(merged_gdf.crs)\n",
    "\n",
    "# Buffer the train geometries by 125 meters\n",
    "metro_gdf['buffered'] = metro_gdf.geometry.buffer(125)\n",
    "\n",
    "# Create a spatial join between the buffered train geometries and the merged points\n",
    "points_within_buffer = gpd.sjoin(merged_gdf, metro_gdf.set_geometry('buffered'), how='inner', op='within')\n",
    "\n",
    "# Count the number of points within each buffer and assign it to the 'N_1' column in train_gdf\n",
    "# The count is grouped by the index of the train_gdf which is preserved in 'index_right' during the spatial join\n",
    "metro_gdf['N_1'] = points_within_buffer.groupby('index_right').size()\n",
    "\n",
    "# Fill NaN values with 0 for buffers that had no points within them\n",
    "metro_gdf['N_1'] = metro_gdf['N_1'].fillna(0).astype(int)\n",
    "\n",
    "# If the 'buffered' column is not needed, drop it to clean up the DataFrame\n",
    "metro_gdf.drop(columns='buffered', inplace=True)\n",
    "\n",
    "# Now train_gdf will have a column 'N_1' with the count of points within the 125-meter buffer"
   ]
  },
  {
   "cell_type": "code",
   "execution_count": null,
   "id": "3c7ec62f",
   "metadata": {},
   "outputs": [],
   "source": [
    "metro_gdf.to_csv(r\"D:\\15_Polimi\\Polimi_onedrive\\OneDrive - Politecnico di Milano\\PhD\\Mapping\\ABC\\ABC-model-18-02-2024\\results\\n_01\\outputs\\n01-metro.csv\")"
   ]
  },
  {
   "cell_type": "code",
   "execution_count": null,
   "id": "df4aca4f",
   "metadata": {},
   "outputs": [],
   "source": [
    "metro_gdf"
   ]
  },
  {
   "cell_type": "markdown",
   "id": "103504a8",
   "metadata": {},
   "source": [
    "## Calculate N-01 for Tram"
   ]
  },
  {
   "cell_type": "code",
   "execution_count": 3,
   "id": "6ef75cdb",
   "metadata": {},
   "outputs": [
    {
     "name": "stderr",
     "output_type": "stream",
     "text": [
      "D:\\Anaconda\\Lib\\site-packages\\IPython\\core\\interactiveshell.py:3466: FutureWarning: The `op` parameter is deprecated and will be removed in a future release. Please use the `predicate` parameter instead.\n",
      "  if await self.run_code(code, result, async_=asy):\n"
     ]
    }
   ],
   "source": [
    "# List of GeoDataFrames to merge\n",
    "gdf_list = [train_gdf, metro_gdf, bus_gdf, bus_tranne_90_gdf, regional_bus_gdf]\n",
    "\n",
    "# Merge all the GeoDataFrames into one using pd.concat\n",
    "merged_gdf = pd.concat(gdf_list, ignore_index=True)\n",
    "merged_gdf = merged_gdf[['stop_id', 'stop_name', 'geometry']]\n",
    "\n",
    "# Ensure that train_gdf's CRS matches the merged_gdf's CRS\n",
    "tram_gdf = tram_gdf.to_crs(merged_gdf.crs)\n",
    "\n",
    "# Buffer the train geometries by 125 meters\n",
    "tram_gdf['buffered'] = tram_gdf.geometry.buffer(125)\n",
    "\n",
    "# Create a spatial join between the buffered train geometries and the merged points\n",
    "points_within_buffer = gpd.sjoin(merged_gdf, tram_gdf.set_geometry('buffered'), how='inner', op='within')\n",
    "\n",
    "# Count the number of points within each buffer and assign it to the 'N_1' column in train_gdf\n",
    "# The count is grouped by the index of the train_gdf which is preserved in 'index_right' during the spatial join\n",
    "tram_gdf['N_1'] = points_within_buffer.groupby('index_right').size()\n",
    "\n",
    "# Fill NaN values with 0 for buffers that had no points within them\n",
    "tram_gdf['N_1'] = tram_gdf['N_1'].fillna(0).astype(int)\n",
    "\n",
    "# If the 'buffered' column is not needed, drop it to clean up the DataFrame\n",
    "tram_gdf.drop(columns='buffered', inplace=True)\n",
    "\n",
    "# Now train_gdf will have a column 'N_1' with the count of points within the 125-meter buffer"
   ]
  },
  {
   "cell_type": "code",
   "execution_count": 4,
   "id": "56cf493d",
   "metadata": {},
   "outputs": [],
   "source": [
    "tram_gdf.to_csv(r\"D:\\15_Polimi\\Polimi_onedrive\\OneDrive - Politecnico di Milano\\PhD\\Mapping\\ABC\\ABC-model-18-02-2024\\results\\n_01\\outputs\\n01-tram.csv\")"
   ]
  },
  {
   "cell_type": "markdown",
   "id": "2834ead8",
   "metadata": {},
   "source": [
    "## Calculate N-01 for bus"
   ]
  },
  {
   "cell_type": "code",
   "execution_count": 3,
   "id": "eb279885",
   "metadata": {},
   "outputs": [
    {
     "name": "stderr",
     "output_type": "stream",
     "text": [
      "D:\\Anaconda\\Lib\\site-packages\\IPython\\core\\interactiveshell.py:3466: FutureWarning: The `op` parameter is deprecated and will be removed in a future release. Please use the `predicate` parameter instead.\n",
      "  if await self.run_code(code, result, async_=asy):\n"
     ]
    }
   ],
   "source": [
    "# List of GeoDataFrames to merge\n",
    "gdf_list = [train_gdf, metro_gdf, tram_gdf, bus_tranne_90_gdf, regional_bus_gdf]\n",
    "\n",
    "# Merge all the GeoDataFrames into one using pd.concat\n",
    "merged_gdf = pd.concat(gdf_list, ignore_index=True)\n",
    "merged_gdf = merged_gdf[['stop_id', 'stop_name', 'geometry']]\n",
    "\n",
    "# Ensure that train_gdf's CRS matches the merged_gdf's CRS\n",
    "bus_gdf = bus_gdf.to_crs(merged_gdf.crs)\n",
    "\n",
    "# Buffer the train geometries by 125 meters\n",
    "bus_gdf['buffered'] = bus_gdf.geometry.buffer(125)\n",
    "\n",
    "# Create a spatial join between the buffered train geometries and the merged points\n",
    "points_within_buffer = gpd.sjoin(merged_gdf, bus_gdf.set_geometry('buffered'), how='inner', op='within')\n",
    "\n",
    "# Count the number of points within each buffer and assign it to the 'N_1' column in train_gdf\n",
    "# The count is grouped by the index of the train_gdf which is preserved in 'index_right' during the spatial join\n",
    "bus_gdf['N_1'] = points_within_buffer.groupby('index_right').size()\n",
    "\n",
    "# Fill NaN values with 0 for buffers that had no points within them\n",
    "bus_gdf['N_1'] = bus_gdf['N_1'].fillna(0).astype(int)\n",
    "\n",
    "# If the 'buffered' column is not needed, drop it to clean up the DataFrame\n",
    "bus_gdf.drop(columns='buffered', inplace=True)\n",
    "\n",
    "# Now train_gdf will have a column 'N_1' with the count of points within the 125-meter buffer"
   ]
  },
  {
   "cell_type": "code",
   "execution_count": 4,
   "id": "1fd69ae6",
   "metadata": {},
   "outputs": [],
   "source": [
    "bus_gdf.to_csv(r\"D:\\15_Polimi\\Polimi_onedrive\\OneDrive - Politecnico di Milano\\PhD\\Mapping\\ABC\\ABC-model-18-02-2024\\results\\n_01\\outputs\\n01-bus.csv\")"
   ]
  },
  {
   "cell_type": "code",
   "execution_count": null,
   "id": "8a509a6e",
   "metadata": {},
   "outputs": [],
   "source": []
  }
 ],
 "metadata": {
  "kernelspec": {
   "display_name": "Python 3 (ipykernel)",
   "language": "python",
   "name": "python3"
  },
  "language_info": {
   "codemirror_mode": {
    "name": "ipython",
    "version": 3
   },
   "file_extension": ".py",
   "mimetype": "text/x-python",
   "name": "python",
   "nbconvert_exporter": "python",
   "pygments_lexer": "ipython3",
   "version": "3.11.5"
  }
 },
 "nbformat": 4,
 "nbformat_minor": 5
}
