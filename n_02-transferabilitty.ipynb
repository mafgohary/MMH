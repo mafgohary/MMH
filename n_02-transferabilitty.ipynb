{
 "cells": [
  {
   "cell_type": "code",
   "execution_count": 20,
   "id": "49750775",
   "metadata": {},
   "outputs": [],
   "source": [
    "import geopandas as gpd\n",
    "from shapely.geometry import Point\n",
    "from shapely.ops import nearest_points\n",
    "import pandas as pd"
   ]
  },
  {
   "cell_type": "markdown",
   "id": "ac4ff76a",
   "metadata": {},
   "source": [
    "## Load the dataset"
   ]
  },
  {
   "cell_type": "code",
   "execution_count": 21,
   "id": "2a20db12",
   "metadata": {},
   "outputs": [],
   "source": [
    "train_gdf  = gpd.read_file(r\"D:\\15_Polimi\\Polimi_onedrive\\OneDrive - Politecnico di Milano\\PhD\\Mapping\\ABC\\ABC-model-18-02-2024\\results\\n_01\\inputs\\n_1_train.shp\")\n",
    "metro_gdf = gpd.read_file(r\"D:\\15_Polimi\\Polimi_onedrive\\OneDrive - Politecnico di Milano\\PhD\\Mapping\\ABC\\ABC-model-18-02-2024\\results\\n_01\\inputs\\n_1_metro.shp\")\n",
    "tram_gdf = gpd.read_file(r\"D:\\15_Polimi\\Polimi_onedrive\\OneDrive - Politecnico di Milano\\PhD\\Mapping\\ABC\\ABC-model-18-02-2024\\results\\n_01\\inputs\\n_1_tram.shp\")\n",
    "bus_gdf = gpd.read_file(r\"D:\\15_Polimi\\Polimi_onedrive\\OneDrive - Politecnico di Milano\\PhD\\Mapping\\ABC\\ABC-model-18-02-2024\\results\\n_01\\inputs\\n_1_bus.shp\")\n",
    "bus_tranne_90_gdf= gpd.read_file(r\"D:\\15_Polimi\\Polimi_onedrive\\OneDrive - Politecnico di Milano\\PhD\\Mapping\\ABC\\ABC-model-18-02-2024\\results\\n_01\\inputs\\n_1_bus_not_90.shp\")\n",
    "regional_bus_gdf= gpd.read_file(r\"D:\\15_Polimi\\Polimi_onedrive\\OneDrive - Politecnico di Milano\\PhD\\Mapping\\ABC\\ABC-model-18-02-2024\\results\\n_01\\inputs\\n_1_reg_bus.shp\")"
   ]
  },
  {
   "cell_type": "markdown",
   "id": "9680d8a8",
   "metadata": {},
   "source": [
    "## load the GTFS data "
   ]
  },
  {
   "cell_type": "code",
   "execution_count": 3,
   "id": "69a7e40c",
   "metadata": {},
   "outputs": [],
   "source": [
    "#ATM\n",
    "calendar_df = pd.read_csv(\"D:\\\\15_Polimi\\\\Polimi_onedrive\\\\OneDrive - Politecnico di Milano\\\\Lombardia GTFS\\\\ATM\\\\calendar.txt\")\n",
    "trips_df= pd.read_csv(\"D:\\\\15_Polimi\\\\Polimi_onedrive\\\\OneDrive - Politecnico di Milano\\\\Lombardia GTFS\\\\ATM\\\\trips.txt\")\n",
    "stop_time_df= pd.read_csv(r\"D:\\15_Polimi\\Polimi_onedrive\\OneDrive - Politecnico di Milano\\Lombardia GTFS\\ATM\\stop_times.txt\")\n",
    "# Filter for services that are available on Wednesday\n",
    "wednesday_services = calendar_df[calendar_df['wednesday'] == 1]\n",
    "wednesday_trips = trips_df[trips_df['service_id'].isin(wednesday_services['service_id'])]\n",
    "wedndesday_stops_atm= stop_time_df[stop_time_df['trip_id'].isin(wednesday_trips['trip_id'])]"
   ]
  },
  {
   "cell_type": "code",
   "execution_count": 4,
   "id": "7d9bbd08",
   "metadata": {},
   "outputs": [],
   "source": [
    "# train\n",
    "calendar_df = pd.read_csv(r\"D:\\15_Polimi\\Polimi_onedrive\\OneDrive - Politecnico di Milano\\Lombardia GTFS\\TrenitaliaTrenord\\calendar.txt\")\n",
    "# Filter for services that are available on Wednesday\n",
    "wednesday_services = calendar_df[calendar_df['wednesday'] == 1]\n",
    "# Extract the list of service_id values for Wednesday\n",
    "wednesday_service_ids = wednesday_services['service_id'].tolist()\n",
    "# Load the trips.txt file\n",
    "trips_df = pd.read_csv(r\"D:\\15_Polimi\\Polimi_onedrive\\OneDrive - Politecnico di Milano\\Lombardia GTFS\\TrenitaliaTrenord\\trips.txt\")\n",
    "# Filter trips by those that have a service_id that operates on Wednesday\n",
    "wednesday_trips = trips_df[trips_df['service_id'].isin(wednesday_service_ids)]\n",
    "# Load the stop_times.txt file\n",
    "stop_times_df = pd.read_csv(r\"D:\\15_Polimi\\Polimi_onedrive\\OneDrive - Politecnico di Milano\\Lombardia GTFS\\TrenitaliaTrenord\\stop_times.txt\")\n",
    "# Filter stop_times to only include rows with trip_id that are in wednesday_trips\n",
    "wednesday_stop_times_train = stop_times_df[stop_times_df['trip_id'].isin(wednesday_trips['trip_id'])]"
   ]
  },
  {
   "cell_type": "code",
   "execution_count": 5,
   "id": "108dbddb",
   "metadata": {},
   "outputs": [],
   "source": [
    "# others\n",
    "calendar_df = pd.read_csv(r\"D:\\15_Polimi\\Polimi_onedrive\\OneDrive - Politecnico di Milano\\Lombardia GTFS\\AltriGestori\\calendar.txt\")\n",
    "# Filter for services that are available on Wednesday\n",
    "wednesday_services = calendar_df[calendar_df['wednesday'] == 1]\n",
    "# Extract the list of service_id values for Wednesday\n",
    "wednesday_service_ids = wednesday_services['service_id'].tolist()\n",
    "# Load the trips.txt file\n",
    "trips_df = pd.read_csv(r\"D:\\15_Polimi\\Polimi_onedrive\\OneDrive - Politecnico di Milano\\Lombardia GTFS\\AltriGestori\\trips.txt\")\n",
    "# Filter trips by those that have a service_id that operates on Wednesday\n",
    "wednesday_trips = trips_df[trips_df['service_id'].isin(wednesday_service_ids)]\n",
    "# Load the stop_times.txt file\n",
    "stop_times_df = pd.read_csv(r\"D:\\15_Polimi\\Polimi_onedrive\\OneDrive - Politecnico di Milano\\Lombardia GTFS\\AltriGestori\\stop_times.txt\")\n",
    "# Filter stop_times to only include rows with trip_id that are in wednesday_trips\n",
    "wednesday_stop_times_others = stop_times_df[stop_times_df['trip_id'].isin(wednesday_trips['trip_id'])]"
   ]
  },
  {
   "cell_type": "code",
   "execution_count": 6,
   "id": "9e183a2d",
   "metadata": {},
   "outputs": [],
   "source": [
    "# Concatenate the dataframes into one\n",
    "stop_times = pd.concat([wedndesday_stops_atm, wednesday_stop_times_train, wednesday_stop_times_others])\n",
    "\n",
    "# If you want to ignore the index and just want to append the dataframes on top of each other\n",
    "stop_times = pd.concat([wedndesday_stops_atm, wednesday_stop_times_train, wednesday_stop_times_others], ignore_index=True)\n",
    "\n",
    "# Now you have a combined dataframe named stop_times"
   ]
  },
  {
   "cell_type": "markdown",
   "id": "7a63b0df",
   "metadata": {},
   "source": [
    "## Calculate N-02 for Trains"
   ]
  },
  {
   "cell_type": "code",
   "execution_count": null,
   "id": "34b1dec1",
   "metadata": {},
   "outputs": [],
   "source": [
    "# List of GeoDataFrames to merge\n",
    "gdf_list = [metro_gdf, tram_gdf, bus_gdf, bus_tranne_90_gdf, regional_bus_gdf]\n",
    "# Merge all the GeoDataFrames into one using pd.concat\n",
    "merged_gdf = pd.concat(gdf_list, ignore_index=True)\n",
    "merged_gdf = merged_gdf[['stop_id', 'stop_name', 'geometry']]\n",
    "# Step 1: Limit merged_gdf to the desired columns\n",
    "limited_gdf = merged_gdf[['stop_id', 'stop_name', 'geometry']]\n",
    "# Ensure that train_gdf's CRS matches the merged_gdf's CRS\n",
    "train_gdf = train_gdf.to_crs(merged_gdf.crs)"
   ]
  },
  {
   "cell_type": "code",
   "execution_count": null,
   "id": "a626d51f",
   "metadata": {},
   "outputs": [],
   "source": [
    "def calculate_nearest(row, other_gdf):\n",
    "    # Use the unary_union of the other_gdf to create a single geometry that represents all points\n",
    "    other_points = other_gdf['geometry'].unary_union\n",
    "    # Find the nearest point in other_points to the geometry of the row\n",
    "    nearest = other_gdf['geometry'] == nearest_points(row['geometry'], other_points)[1]\n",
    "    # Get the 'stop_id' of the nearest point\n",
    "    nearest_stop_id = other_gdf[nearest]['stop_id'].iloc[0]\n",
    "    # Calculate the distance to the nearest point in meters\n",
    "    nearest_distance = row['geometry'].distance(other_gdf[nearest]['geometry'].iloc[0])\n",
    "    # Return a Series with 'nearest_stop_id' and 'nearest_distance'\n",
    "    return pd.Series([nearest_stop_id, nearest_distance], index=['nearest_stop_id', 'nearest_distance'])\n",
    "\n",
    "# Ensure the CRS is set to a metric system for distance calculation (if necessary)\n",
    "# limited_gdf = limited_gdf.to_crs(epsg=32632)\n",
    "\n",
    "# Apply the function to each row in the train stations GeoDataFrame\n",
    "# This will add 'nearest_stop_id' and 'nearest_distance' columns to the train_gdf\n",
    "train_gdf[['nearest_stop_id', 'nearest_distance']] = train_gdf.apply(calculate_nearest, other_gdf=limited_gdf, axis=1)"
   ]
  },
  {
   "cell_type": "code",
   "execution_count": null,
   "id": "79e117a7",
   "metadata": {},
   "outputs": [],
   "source": [
    "# Speed in km/h converted to m/s (4 km/h * 1000 m/km / 3600 s/h)\n",
    "speed_m_s = 4.5 * 1000 / 3600\n",
    "\n",
    "# Start time at 8:30 AM\n",
    "start_time = pd.Timestamp('08:30:00')\n",
    "\n",
    "def calculate_arrival_time(distance, speed):\n",
    "    # Time in seconds to travel the distance at the given speed\n",
    "    travel_time_seconds = distance / speed\n",
    "    # Calculate arrival time by adding the travel time to the start time\n",
    "    arrival_time = start_time + pd.Timedelta(seconds=travel_time_seconds)\n",
    "    # Format the arrival time as HH:MM:SS\n",
    "    return arrival_time.strftime('%H:%M:%S')\n",
    "\n",
    "# Apply the function to each row in the DataFrame\n",
    "train_gdf['arrival_time'] = train_gdf['nearest_distance'].apply(calculate_arrival_time, speed=speed_m_s)\n",
    "\n",
    "# Now train_gdf['arrival_time'] column will have the time of arrival in GTFS format\n"
   ]
  },
  {
   "cell_type": "code",
   "execution_count": null,
   "id": "5d3a6303",
   "metadata": {},
   "outputs": [],
   "source": [
    "train_gdf['nearest_stop_id'] = train_gdf['nearest_stop_id'].astype(stop_times['stop_id'].dtype)\n",
    "\n",
    "# Ensure that departure_time in stop_times and arrival_time in train_gdf are both of type datetime.time\n",
    "stop_times['departure_time'] = pd.to_datetime(stop_times['departure_time']).dt.time\n",
    "train_gdf['arrival_time'] = pd.to_datetime(train_gdf['arrival_time']).dt.time\n",
    "\n",
    "# Process for each row in train_gdf to find the next higher departure time\n",
    "for index, row in train_gdf.iterrows():\n",
    "    nearest_stop_id = row['nearest_stop_id']\n",
    "    arrival_time = row['arrival_time']\n",
    "    \n",
    "    # Filter stop_times where nearest_stop_id matches stop_id\n",
    "    filtered_stop_times = stop_times[stop_times['stop_id'] == nearest_stop_id]\n",
    "    \n",
    "    # Sort the filtered times by departure_time\n",
    "    filtered_stop_times_sorted = filtered_stop_times.sort_values('departure_time')\n",
    "    \n",
    "    # Find the next higher departure_time value\n",
    "    next_departure_time = filtered_stop_times_sorted[filtered_stop_times_sorted['departure_time'] > arrival_time]['departure_time'].min()\n",
    "    \n",
    "    # Assign the next higher departure_time value back to the train_gdf\n",
    "    train_gdf.loc[index, 'next_departure_time'] = next_departure_time\n",
    "# The train_gdf now has a new column 'next_departure_time' with the next higher departure times"
   ]
  },
  {
   "cell_type": "code",
   "execution_count": null,
   "id": "9dfd300c",
   "metadata": {},
   "outputs": [],
   "source": [
    "# Define walking speed in meters per minute (4.5 km/h is 75 m/min)\n",
    "walking_speed_m_per_min = 4.5 * 1000 / 60\n",
    "\n",
    "# Calculate walking time in minutes and create a new column\n",
    "train_gdf['walking_time'] = train_gdf['nearest_distance'] / walking_speed_m_per_min\n",
    "\n",
    "# Convert arrival_time to datetime.time\n",
    "train_gdf['arrival_time'] = pd.to_datetime(train_gdf['arrival_time'], format='%H:%M:%S').dt.time\n",
    "\n",
    "# Convert next_departure_time to datetime.time if it's not already\n",
    "train_gdf['next_departure_time'] = pd.to_datetime(train_gdf['next_departure_time'], format='%H:%M:%S').dt.time\n",
    "\n",
    "# Define a function to calculate waiting time in minutes\n",
    "def calculate_waiting_time(arrival_time, next_departure_time):\n",
    "    # Check for NaN values and return NaN if either time is not a valid string\n",
    "    if pd.isnull(arrival_time) or pd.isnull(next_departure_time):\n",
    "        return pd.NaT\n",
    "    \n",
    "    # Convert times to datetime.timedelta\n",
    "    arrival_td = pd.to_timedelta(f'{arrival_time.hour}:{arrival_time.minute}:{arrival_time.second}')\n",
    "    departure_td = pd.to_timedelta(f'{next_departure_time.hour}:{next_departure_time.minute}:{next_departure_time.second}')\n",
    "    \n",
    "    # Calculate the difference in minutes\n",
    "    waiting_td = departure_td - arrival_td\n",
    "    return waiting_td.total_seconds() / 60\n",
    "\n",
    "\n",
    "# Calculate waiting time and create a new column\n",
    "train_gdf['waiting_time'] = train_gdf.apply(lambda row: calculate_waiting_time(row['arrival_time'], row['next_departure_time']), axis=1)"
   ]
  },
  {
   "cell_type": "code",
   "execution_count": null,
   "id": "1f636157",
   "metadata": {},
   "outputs": [],
   "source": [
    "train_gdf['N2_2']=train_gdf['walking_time']+train_gdf['waiting_time']\n",
    "train_gdf = train_gdf.rename(columns={'nearest_distance': 'N2_1'})\n",
    "# Calculate the mean of the non-NaN values\n",
    "mean_value = train_gdf['N2_2'].mean()\n",
    "\n",
    "# Replace NaN values with the mean\n",
    "train_gdf['N2_2'].fillna(mean_value, inplace=True)"
   ]
  },
  {
   "cell_type": "code",
   "execution_count": null,
   "id": "3007fc9e",
   "metadata": {},
   "outputs": [],
   "source": [
    "train=train_gdf[['field_1','stop_id','stop_name','stop_desc','pums','s_lat','s_lon','int_scr','scr_abc','Cluster','catch_area','geometry','N2_1','N2_2']]\n",
    "train.to_csv(r\"D:\\15_Polimi\\Polimi_onedrive\\OneDrive - Politecnico di Milano\\PhD\\Mapping\\ABC\\ABC-model-18-02-2024\\results\\n_02\\outputs\\n02-train.csv\")"
   ]
  },
  {
   "cell_type": "markdown",
   "id": "db39e09f",
   "metadata": {},
   "source": [
    "## Calculate N-02 for Metro"
   ]
  },
  {
   "cell_type": "code",
   "execution_count": null,
   "id": "01478cac",
   "metadata": {},
   "outputs": [],
   "source": [
    "# List of GeoDataFrames to merge\n",
    "gdf_list = [train_gdf, tram_gdf, bus_gdf, bus_tranne_90_gdf, regional_bus_gdf]\n",
    "# Merge all the GeoDataFrames into one using pd.concat\n",
    "merged_gdf = pd.concat(gdf_list, ignore_index=True)\n",
    "merged_gdf = merged_gdf[['stop_id', 'stop_name', 'geometry']]\n",
    "# Step 1: Limit merged_gdf to the desired columns\n",
    "limited_gdf = merged_gdf[['stop_id', 'stop_name', 'geometry']]\n",
    "# Ensure that train_gdf's CRS matches the merged_gdf's CRS\n",
    "metro_gdf = metro_gdf.to_crs(merged_gdf.crs)"
   ]
  },
  {
   "cell_type": "code",
   "execution_count": null,
   "id": "9fc33fa5",
   "metadata": {},
   "outputs": [],
   "source": [
    "def calculate_nearest(row, other_gdf):\n",
    "    # Use the unary_union of the other_gdf to create a single geometry that represents all points\n",
    "    other_points = other_gdf['geometry'].unary_union\n",
    "    # Find the nearest point in other_points to the geometry of the row\n",
    "    nearest = other_gdf['geometry'] == nearest_points(row['geometry'], other_points)[1]\n",
    "    # Get the 'stop_id' of the nearest point\n",
    "    nearest_stop_id = other_gdf[nearest]['stop_id'].iloc[0]\n",
    "    # Calculate the distance to the nearest point in meters\n",
    "    nearest_distance = row['geometry'].distance(other_gdf[nearest]['geometry'].iloc[0])\n",
    "    # Return a Series with 'nearest_stop_id' and 'nearest_distance'\n",
    "    return pd.Series([nearest_stop_id, nearest_distance], index=['nearest_stop_id', 'nearest_distance'])\n",
    "\n",
    "# Ensure the CRS is set to a metric system for distance calculation (if necessary)\n",
    "# limited_gdf = limited_gdf.to_crs(epsg=32632)\n",
    "\n",
    "# Apply the function to each row in the train stations GeoDataFrame\n",
    "# This will add 'nearest_stop_id' and 'nearest_distance' columns to the train_gdf\n",
    "metro_gdf[['nearest_stop_id', 'nearest_distance']] = metro_gdf.apply(calculate_nearest, other_gdf=limited_gdf, axis=1)"
   ]
  },
  {
   "cell_type": "code",
   "execution_count": null,
   "id": "c46cf77f",
   "metadata": {},
   "outputs": [],
   "source": [
    "# Speed in km/h converted to m/s (4 km/h * 1000 m/km / 3600 s/h)\n",
    "speed_m_s = 4.5 * 1000 / 3600\n",
    "\n",
    "# Start time at 8:30 AM\n",
    "start_time = pd.Timestamp('08:30:00')\n",
    "\n",
    "def calculate_arrival_time(distance, speed):\n",
    "    # Time in seconds to travel the distance at the given speed\n",
    "    travel_time_seconds = distance / speed\n",
    "    # Calculate arrival time by adding the travel time to the start time\n",
    "    arrival_time = start_time + pd.Timedelta(seconds=travel_time_seconds)\n",
    "    # Format the arrival time as HH:MM:SS\n",
    "    return arrival_time.strftime('%H:%M:%S')\n",
    "\n",
    "# Apply the function to each row in the DataFrame\n",
    "metro_gdf['arrival_time'] = metro_gdf['nearest_distance'].apply(calculate_arrival_time, speed=speed_m_s)\n",
    "\n",
    "# Now train_gdf['arrival_time'] column will have the time of arrival in GTFS format"
   ]
  },
  {
   "cell_type": "code",
   "execution_count": null,
   "id": "49b85315",
   "metadata": {},
   "outputs": [],
   "source": [
    "metro_gdf['nearest_stop_id'] = metro_gdf['nearest_stop_id'].fillna(-1).astype(stop_times['stop_id'].dtype)\n",
    "\n",
    "# Ensure that departure_time in stop_times and arrival_time in train_gdf are both of type datetime.time\n",
    "stop_times['departure_time'] = pd.to_datetime(stop_times['departure_time'], format='%H:%M:%S').dt.time\n",
    "metro_gdf['arrival_time'] = pd.to_datetime(metro_gdf['arrival_time'], format='%H:%M:%S').dt.time\n",
    "\n",
    "\n",
    "# Process for each row in train_gdf to find the next higher departure time\n",
    "for index, row in metro_gdf.iterrows():\n",
    "    nearest_stop_id = row['nearest_stop_id']\n",
    "    arrival_time = row['arrival_time']\n",
    "    \n",
    "    # Filter stop_times where nearest_stop_id matches stop_id\n",
    "    filtered_stop_times = stop_times[stop_times['stop_id'] == nearest_stop_id]\n",
    "    \n",
    "    # Sort the filtered times by departure_time\n",
    "    filtered_stop_times_sorted = filtered_stop_times.sort_values('departure_time')\n",
    "    \n",
    "    # Find the next higher departure_time value\n",
    "    next_departure_time = filtered_stop_times_sorted[filtered_stop_times_sorted['departure_time'] > arrival_time]['departure_time'].min()\n",
    "    \n",
    "    # Assign the next higher departure_time value back to the train_gdf\n",
    "    metro_gdf.loc[index, 'next_departure_time'] = next_departure_time\n",
    "# The train_gdf now has a new column 'next_departure_time' with the next higher departure times"
   ]
  },
  {
   "cell_type": "code",
   "execution_count": null,
   "id": "48ec3c47",
   "metadata": {},
   "outputs": [],
   "source": [
    "# Define walking speed in meters per minute (4.5 km/h is 75 m/min)\n",
    "walking_speed_m_per_min = 4.5 * 1000 / 60\n",
    "\n",
    "# Calculate walking time in minutes and create a new column\n",
    "metro_gdf['walking_time'] = metro_gdf['nearest_distance'] / walking_speed_m_per_min\n",
    "\n",
    "# Convert arrival_time to datetime.time\n",
    "metro_gdf['arrival_time'] = pd.to_datetime(metro_gdf['arrival_time'], format='%H:%M:%S').dt.time\n",
    "\n",
    "# Convert next_departure_time to datetime.time if it's not already\n",
    "metro_gdf['next_departure_time'] = pd.to_datetime(metro_gdf['next_departure_time'], format='%H:%M:%S').dt.time\n",
    "\n",
    "# Define a function to calculate waiting time in minutes\n",
    "def calculate_waiting_time(arrival_time, next_departure_time):\n",
    "    # Check for NaN values and return NaN if either time is not a valid string\n",
    "    if pd.isnull(arrival_time) or pd.isnull(next_departure_time):\n",
    "        return pd.NaT\n",
    "    \n",
    "    # Convert times to datetime.timedelta\n",
    "    arrival_td = pd.to_timedelta(f'{arrival_time.hour}:{arrival_time.minute}:{arrival_time.second}')\n",
    "    departure_td = pd.to_timedelta(f'{next_departure_time.hour}:{next_departure_time.minute}:{next_departure_time.second}')\n",
    "    \n",
    "    # Calculate the difference in minutes\n",
    "    waiting_td = departure_td - arrival_td\n",
    "    return waiting_td.total_seconds() / 60\n",
    "\n",
    "\n",
    "# Calculate waiting time and create a new column\n",
    "metro_gdf['waiting_time'] = metro_gdf.apply(lambda row: calculate_waiting_time(row['arrival_time'], row['next_departure_time']), axis=1)\n"
   ]
  },
  {
   "cell_type": "code",
   "execution_count": null,
   "id": "405cca22",
   "metadata": {},
   "outputs": [],
   "source": [
    "metro_gdf['N2_2']=metro_gdf['walking_time']+metro_gdf['waiting_time']\n",
    "metro_gdf = metro_gdf.rename(columns={'nearest_distance': 'N2_1'})\n",
    "# Calculate the mean of the non-NaN values\n",
    "mean_value = metro_gdf['N2_2'].mean()\n",
    "\n",
    "# Replace NaN values with the mean\n",
    "metro_gdf['N2_2'].fillna(mean_value, inplace=True)"
   ]
  },
  {
   "cell_type": "code",
   "execution_count": null,
   "id": "23575009",
   "metadata": {},
   "outputs": [],
   "source": [
    "metro=metro_gdf[['field_1','stop_id','stop_name','stop_desc','pums','s_lat','s_lon','int_scr','scr_abc','Cluster','catch_area','geometry','N2_1','N2_2']]\n",
    "metro.to_csv(r\"D:\\15_Polimi\\Polimi_onedrive\\OneDrive - Politecnico di Milano\\PhD\\Mapping\\ABC\\ABC-model-18-02-2024\\results\\n_02\\outputs\\n02-metro.csv\")"
   ]
  },
  {
   "cell_type": "markdown",
   "id": "aa75eb4f",
   "metadata": {},
   "source": [
    "## Calculate N-02 for Tram"
   ]
  },
  {
   "cell_type": "code",
   "execution_count": 22,
   "id": "29b71eb8",
   "metadata": {},
   "outputs": [],
   "source": [
    "# List of GeoDataFrames to merge\n",
    "gdf_list = [train_gdf, metro_gdf, bus_gdf, bus_tranne_90_gdf, regional_bus_gdf]\n",
    "# Merge all the GeoDataFrames into one using pd.concat\n",
    "merged_gdf = pd.concat(gdf_list, ignore_index=True)\n",
    "merged_gdf = merged_gdf[['stop_id', 'stop_name', 'geometry']]\n",
    "# Step 1: Limit merged_gdf to the desired columns\n",
    "limited_gdf = merged_gdf[['stop_id', 'stop_name', 'geometry']]\n",
    "# Ensure that train_gdf's CRS matches the merged_gdf's CRS\n",
    "tram_gdf = tram_gdf.to_crs(merged_gdf.crs)"
   ]
  },
  {
   "cell_type": "code",
   "execution_count": null,
   "id": "e870293b",
   "metadata": {},
   "outputs": [],
   "source": [
    "def calculate_nearest(row, other_gdf):\n",
    "    # Use the unary_union of the other_gdf to create a single geometry that represents all points\n",
    "    other_points = other_gdf['geometry'].unary_union\n",
    "    # Find the nearest point in other_points to the geometry of the row\n",
    "    nearest = other_gdf['geometry'] == nearest_points(row['geometry'], other_points)[1]\n",
    "    # Get the 'stop_id' of the nearest point\n",
    "    nearest_stop_id = other_gdf[nearest]['stop_id'].iloc[0]\n",
    "    # Calculate the distance to the nearest point in meters\n",
    "    nearest_distance = row['geometry'].distance(other_gdf[nearest]['geometry'].iloc[0])\n",
    "    # Return a Series with 'nearest_stop_id' and 'nearest_distance'\n",
    "    return pd.Series([nearest_stop_id, nearest_distance], index=['nearest_stop_id', 'nearest_distance'])\n",
    "\n",
    "# Ensure the CRS is set to a metric system for distance calculation (if necessary)\n",
    "# limited_gdf = limited_gdf.to_crs(epsg=32632)\n",
    "\n",
    "# Apply the function to each row in the train stations GeoDataFrame\n",
    "# This will add 'nearest_stop_id' and 'nearest_distance' columns to the train_gdf\n",
    "tram_gdf[['nearest_stop_id', 'nearest_distance']] = tram_gdf.apply(calculate_nearest, other_gdf=limited_gdf, axis=1)"
   ]
  },
  {
   "cell_type": "code",
   "execution_count": null,
   "id": "47d850bc",
   "metadata": {},
   "outputs": [],
   "source": [
    "# Speed in km/h converted to m/s (4 km/h * 1000 m/km / 3600 s/h)\n",
    "speed_m_s = 4.5 * 1000 / 3600\n",
    "\n",
    "# Start time at 8:30 AM\n",
    "start_time = pd.Timestamp('08:30:00')\n",
    "\n",
    "def calculate_arrival_time(distance, speed):\n",
    "    # Time in seconds to travel the distance at the given speed\n",
    "    travel_time_seconds = distance / speed\n",
    "    # Calculate arrival time by adding the travel time to the start time\n",
    "    arrival_time = start_time + pd.Timedelta(seconds=travel_time_seconds)\n",
    "    # Format the arrival time as HH:MM:SS\n",
    "    return arrival_time.strftime('%H:%M:%S')\n",
    "\n",
    "# Apply the function to each row in the DataFrame\n",
    "tram_gdf['arrival_time'] = tram_gdf['nearest_distance'].apply(calculate_arrival_time, speed=speed_m_s)\n",
    "\n",
    "# Now train_gdf['arrival_time'] column will have the time of arrival in GTFS format"
   ]
  },
  {
   "cell_type": "code",
   "execution_count": null,
   "id": "62e62ab1",
   "metadata": {},
   "outputs": [],
   "source": [
    "tram_gdf['nearest_stop_id'] = tram_gdf['nearest_stop_id'].fillna(-1).astype(stop_times['stop_id'].dtype)\n",
    "\n",
    "# Ensure that departure_time in stop_times and arrival_time in train_gdf are both of type datetime.time\n",
    "stop_times['departure_time'] = pd.to_datetime(stop_times['departure_time'], format='%H:%M:%S').dt.time\n",
    "tram_gdf['arrival_time'] = pd.to_datetime(tram_gdf['arrival_time'], format='%H:%M:%S').dt.time\n",
    "\n",
    "\n",
    "# Process for each row in train_gdf to find the next higher departure time\n",
    "for index, row in tram_gdf.iterrows():\n",
    "    nearest_stop_id = row['nearest_stop_id']\n",
    "    arrival_time = row['arrival_time']\n",
    "    \n",
    "    # Filter stop_times where nearest_stop_id matches stop_id\n",
    "    filtered_stop_times = stop_times[stop_times['stop_id'] == nearest_stop_id]\n",
    "    \n",
    "    # Sort the filtered times by departure_time\n",
    "    filtered_stop_times_sorted = filtered_stop_times.sort_values('departure_time')\n",
    "    \n",
    "    # Find the next higher departure_time value\n",
    "    next_departure_time = filtered_stop_times_sorted[filtered_stop_times_sorted['departure_time'] > arrival_time]['departure_time'].min()\n",
    "    \n",
    "    # Assign the next higher departure_time value back to the train_gdf\n",
    "    tram_gdf.loc[index, 'next_departure_time'] = next_departure_time\n",
    "# The train_gdf now has a new column 'next_departure_time' with the next higher departure times"
   ]
  },
  {
   "cell_type": "code",
   "execution_count": null,
   "id": "a26408ef",
   "metadata": {},
   "outputs": [],
   "source": [
    "# Define walking speed in meters per minute (4.5 km/h is 75 m/min)\n",
    "walking_speed_m_per_min = 4.5 * 1000 / 60\n",
    "\n",
    "# Calculate walking time in minutes and create a new column\n",
    "tram_gdf['walking_time'] = tram_gdf['nearest_distance'] / walking_speed_m_per_min\n",
    "\n",
    "# Convert arrival_time to datetime.time\n",
    "tram_gdf['arrival_time'] = pd.to_datetime(tram_gdf['arrival_time'], format='%H:%M:%S').dt.time\n",
    "\n",
    "# Convert next_departure_time to datetime.time if it's not already\n",
    "tram_gdf['next_departure_time'] = pd.to_datetime(tram_gdf['next_departure_time'], format='%H:%M:%S').dt.time\n",
    "\n",
    "# Define a function to calculate waiting time in minutes\n",
    "def calculate_waiting_time(arrival_time, next_departure_time):\n",
    "    # Check for NaN values and return NaN if either time is not a valid string\n",
    "    if pd.isnull(arrival_time) or pd.isnull(next_departure_time):\n",
    "        return pd.NaT\n",
    "    \n",
    "    # Convert times to datetime.timedelta\n",
    "    arrival_td = pd.to_timedelta(f'{arrival_time.hour}:{arrival_time.minute}:{arrival_time.second}')\n",
    "    departure_td = pd.to_timedelta(f'{next_departure_time.hour}:{next_departure_time.minute}:{next_departure_time.second}')\n",
    "    \n",
    "    # Calculate the difference in minutes\n",
    "    waiting_td = departure_td - arrival_td\n",
    "    return waiting_td.total_seconds() / 60\n",
    "\n",
    "\n",
    "# Calculate waiting time and create a new column\n",
    "tram_gdf['waiting_time'] = tram_gdf.apply(lambda row: calculate_waiting_time(row['arrival_time'], row['next_departure_time']), axis=1)\n"
   ]
  },
  {
   "cell_type": "code",
   "execution_count": null,
   "id": "ac026061",
   "metadata": {},
   "outputs": [],
   "source": [
    "tram_gdf['N2_2']=tram_gdf['walking_time']+tram_gdf['waiting_time']\n",
    "# Calculate the mean of the non-NaN values\n",
    "mean_value = tram_gdf['N2_2'].mean()\n",
    "\n",
    "# Replace NaN values with the mean\n",
    "tram_gdf['N2_2'].fillna(mean_value, inplace=True)\n",
    "\n",
    "tram_gdf = tram_gdf.rename(columns={'nearest_distance': 'N2_1'})\n",
    "tram_gdf"
   ]
  },
  {
   "cell_type": "code",
   "execution_count": null,
   "id": "b9ce8460",
   "metadata": {},
   "outputs": [],
   "source": [
    "tram_gdf"
   ]
  },
  {
   "cell_type": "code",
   "execution_count": null,
   "id": "cefbe52b",
   "metadata": {},
   "outputs": [],
   "source": [
    "tram=tram_gdf[['field_1','stop_id','stop_name','stop_desc','pums','s_lat','s_lon','int_scr','scr_abc','Cluster','catch_area','geometry','N2_1','N2_2']]\n",
    "tram.to_csv(r\"D:\\15_Polimi\\Polimi_onedrive\\OneDrive - Politecnico di Milano\\PhD\\Mapping\\ABC\\ABC-model-18-02-2024\\results\\n_02\\outputs\\n02-tram.csv\")"
   ]
  },
  {
   "cell_type": "markdown",
   "id": "6cb4df59",
   "metadata": {},
   "source": [
    "## Calculate N-02 for Bus"
   ]
  },
  {
   "cell_type": "code",
   "execution_count": 7,
   "id": "37c2bdf9",
   "metadata": {},
   "outputs": [],
   "source": [
    "# List of GeoDataFrames to merge\n",
    "gdf_list = [train_gdf, metro_gdf, tram_gdf, bus_tranne_90_gdf, regional_bus_gdf]\n",
    "# Merge all the GeoDataFrames into one using pd.concat\n",
    "merged_gdf = pd.concat(gdf_list, ignore_index=True)\n",
    "merged_gdf = merged_gdf[['stop_id', 'stop_name', 'geometry']]\n",
    "# Step 1: Limit merged_gdf to the desired columns\n",
    "limited_gdf = merged_gdf[['stop_id', 'stop_name', 'geometry']]\n",
    "# Ensure that train_gdf's CRS matches the merged_gdf's CRS\n",
    "bus_gdf = bus_gdf.to_crs(merged_gdf.crs)"
   ]
  },
  {
   "cell_type": "code",
   "execution_count": 8,
   "id": "103afd4f",
   "metadata": {},
   "outputs": [],
   "source": [
    "def calculate_nearest(row, other_gdf):\n",
    "    # Use the unary_union of the other_gdf to create a single geometry that represents all points\n",
    "    other_points = other_gdf['geometry'].unary_union\n",
    "    # Find the nearest point in other_points to the geometry of the row\n",
    "    nearest = other_gdf['geometry'] == nearest_points(row['geometry'], other_points)[1]\n",
    "    # Get the 'stop_id' of the nearest point\n",
    "    nearest_stop_id = other_gdf[nearest]['stop_id'].iloc[0]\n",
    "    # Calculate the distance to the nearest point in meters\n",
    "    nearest_distance = row['geometry'].distance(other_gdf[nearest]['geometry'].iloc[0])\n",
    "    # Return a Series with 'nearest_stop_id' and 'nearest_distance'\n",
    "    return pd.Series([nearest_stop_id, nearest_distance], index=['nearest_stop_id', 'nearest_distance'])\n",
    "\n",
    "# Ensure the CRS is set to a metric system for distance calculation (if necessary)\n",
    "# limited_gdf = limited_gdf.to_crs(epsg=32632)\n",
    "\n",
    "# Apply the function to each row in the train stations GeoDataFrame\n",
    "# This will add 'nearest_stop_id' and 'nearest_distance' columns to the train_gdf\n",
    "bus_gdf[['nearest_stop_id', 'nearest_distance']] = bus_gdf.apply(calculate_nearest, other_gdf=limited_gdf, axis=1)"
   ]
  },
  {
   "cell_type": "code",
   "execution_count": 9,
   "id": "1d2e9f9e",
   "metadata": {},
   "outputs": [],
   "source": [
    "# Speed in km/h converted to m/s (4 km/h * 1000 m/km / 3600 s/h)\n",
    "speed_m_s = 4.5 * 1000 / 3600\n",
    "\n",
    "# Start time at 8:30 AM\n",
    "start_time = pd.Timestamp('08:30:00')\n",
    "\n",
    "def calculate_arrival_time(distance, speed):\n",
    "    # Time in seconds to travel the distance at the given speed\n",
    "    travel_time_seconds = distance / speed\n",
    "    # Calculate arrival time by adding the travel time to the start time\n",
    "    arrival_time = start_time + pd.Timedelta(seconds=travel_time_seconds)\n",
    "    # Format the arrival time as HH:MM:SS\n",
    "    return arrival_time.strftime('%H:%M:%S')\n",
    "\n",
    "# Apply the function to each row in the DataFrame\n",
    "bus_gdf['arrival_time'] = bus_gdf['nearest_distance'].apply(calculate_arrival_time, speed=speed_m_s)\n",
    "\n",
    "# Now train_gdf['arrival_time'] column will have the time of arrival in GTFS format"
   ]
  },
  {
   "cell_type": "code",
   "execution_count": 15,
   "id": "142ee2c3",
   "metadata": {},
   "outputs": [],
   "source": [
    "bus_gdf['nearest_stop_id'] = bus_gdf['nearest_stop_id'].fillna(-1).astype(stop_times['stop_id'].dtype)\n",
    "\n",
    "# Ensure that departure_time in stop_times and arrival_time in train_gdf are both of type datetime.time\n",
    "stop_times['departure_time'] = pd.to_datetime(stop_times['departure_time'], format='%H:%M:%S').dt.time\n",
    "bus_gdf['arrival_time'] = pd.to_datetime(bus_gdf['arrival_time'], format='%H:%M:%S').dt.time\n",
    "\n",
    "\n",
    "# Process for each row in train_gdf to find the next higher departure time\n",
    "for index, row in bus_gdf.iterrows():\n",
    "    nearest_stop_id = row['nearest_stop_id']\n",
    "    arrival_time = row['arrival_time']\n",
    "    \n",
    "    # Filter stop_times where nearest_stop_id matches stop_id\n",
    "    filtered_stop_times = stop_times[stop_times['stop_id'] == nearest_stop_id]\n",
    "    \n",
    "    # Sort the filtered times by departure_time\n",
    "    filtered_stop_times_sorted = filtered_stop_times.sort_values('departure_time')\n",
    "    \n",
    "    # Find the next higher departure_time value\n",
    "    next_departure_time = filtered_stop_times_sorted[filtered_stop_times_sorted['departure_time'] > arrival_time]['departure_time'].min()\n",
    "    \n",
    "    # Assign the next higher departure_time value back to the train_gdf\n",
    "    bus_gdf.loc[index, 'next_departure_time'] = next_departure_time\n",
    "# The train_gdf now has a new column 'next_departure_time' with the next higher departure times"
   ]
  },
  {
   "cell_type": "code",
   "execution_count": 16,
   "id": "fe20a777",
   "metadata": {},
   "outputs": [],
   "source": [
    "# Define walking speed in meters per minute (4.5 km/h is 75 m/min)\n",
    "walking_speed_m_per_min = 4.5 * 1000 / 60\n",
    "\n",
    "# Calculate walking time in minutes and create a new column\n",
    "bus_gdf['walking_time'] = bus_gdf['nearest_distance'] / walking_speed_m_per_min\n",
    "\n",
    "# Convert arrival_time to datetime.time\n",
    "bus_gdf['arrival_time'] = pd.to_datetime(bus_gdf['arrival_time'], format='%H:%M:%S').dt.time\n",
    "\n",
    "# Convert next_departure_time to datetime.time if it's not already\n",
    "bus_gdf['next_departure_time'] = pd.to_datetime(bus_gdf['next_departure_time'], format='%H:%M:%S').dt.time\n",
    "\n",
    "# Define a function to calculate waiting time in minutes\n",
    "def calculate_waiting_time(arrival_time, next_departure_time):\n",
    "    # Check for NaN values and return NaN if either time is not a valid string\n",
    "    if pd.isnull(arrival_time) or pd.isnull(next_departure_time):\n",
    "        return pd.NaT\n",
    "    \n",
    "    # Convert times to datetime.timedelta\n",
    "    arrival_td = pd.to_timedelta(f'{arrival_time.hour}:{arrival_time.minute}:{arrival_time.second}')\n",
    "    departure_td = pd.to_timedelta(f'{next_departure_time.hour}:{next_departure_time.minute}:{next_departure_time.second}')\n",
    "    \n",
    "    # Calculate the difference in minutes\n",
    "    waiting_td = departure_td - arrival_td\n",
    "    return waiting_td.total_seconds() / 60\n",
    "\n",
    "\n",
    "# Calculate waiting time and create a new column\n",
    "bus_gdf['waiting_time'] = bus_gdf.apply(lambda row: calculate_waiting_time(row['arrival_time'], row['next_departure_time']), axis=1)\n"
   ]
  },
  {
   "cell_type": "code",
   "execution_count": 17,
   "id": "77167adb",
   "metadata": {},
   "outputs": [],
   "source": [
    "bus_gdf['N2_2']=bus_gdf['walking_time']+bus_gdf['waiting_time']\n",
    "# Calculate the mean of the non-NaN values\n",
    "mean_value = bus_gdf['N2_2'].mean()\n",
    "\n",
    "# Replace NaN values with the mean\n",
    "bus_gdf['N2_2'].fillna(mean_value, inplace=True)\n",
    "\n",
    "bus_gdf = bus_gdf.rename(columns={'nearest_distance': 'N2_1'})"
   ]
  },
  {
   "cell_type": "code",
   "execution_count": 19,
   "id": "19833d24",
   "metadata": {},
   "outputs": [],
   "source": [
    "bus=bus_gdf[['field_1','stop_id','stop_name','stop_desc','s_lat','s_lon','int_scr','scr_abc','Cluster','catch_area','geometry','N2_1','N2_2']]\n",
    "bus.to_csv(r\"D:\\15_Polimi\\Polimi_onedrive\\OneDrive - Politecnico di Milano\\PhD\\Mapping\\ABC\\ABC-model-18-02-2024\\results\\n_02\\outputs\\n02-bus.csv\")"
   ]
  },
  {
   "cell_type": "code",
   "execution_count": null,
   "id": "41bcbed2",
   "metadata": {},
   "outputs": [],
   "source": []
  }
 ],
 "metadata": {
  "kernelspec": {
   "display_name": "Python 3 (ipykernel)",
   "language": "python",
   "name": "python3"
  },
  "language_info": {
   "codemirror_mode": {
    "name": "ipython",
    "version": 3
   },
   "file_extension": ".py",
   "mimetype": "text/x-python",
   "name": "python",
   "nbconvert_exporter": "python",
   "pygments_lexer": "ipython3",
   "version": "3.11.5"
  }
 },
 "nbformat": 4,
 "nbformat_minor": 5
}
