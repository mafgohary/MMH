{
 "cells": [
  {
   "cell_type": "code",
   "execution_count": 1,
   "id": "d6333df8",
   "metadata": {},
   "outputs": [],
   "source": [
    "import geopandas as gpd\n",
    "from shapely.ops import nearest_points"
   ]
  },
  {
   "cell_type": "code",
   "execution_count": 2,
   "id": "e0167b6b",
   "metadata": {},
   "outputs": [],
   "source": [
    "train_gdf  = gpd.read_file(r\"D:\\15_Polimi\\Polimi_onedrive\\OneDrive - Politecnico di Milano\\PhD\\Mapping\\ABC\\ABC-model-18-02-2024\\results\\n_01\\inputs\\n_1_train.shp\")\n",
    "metro_gdf = gpd.read_file(r\"D:\\15_Polimi\\Polimi_onedrive\\OneDrive - Politecnico di Milano\\PhD\\Mapping\\ABC\\ABC-model-18-02-2024\\results\\n_01\\inputs\\n_1_metro.shp\")\n",
    "tram_gdf = gpd.read_file(r\"D:\\15_Polimi\\Polimi_onedrive\\OneDrive - Politecnico di Milano\\PhD\\Mapping\\ABC\\ABC-model-18-02-2024\\results\\n_01\\inputs\\n_1_tram.shp\")\n",
    "bus_gdf = gpd.read_file(r\"D:\\15_Polimi\\Polimi_onedrive\\OneDrive - Politecnico di Milano\\PhD\\Mapping\\ABC\\ABC-model-18-02-2024\\results\\n_01\\inputs\\n_1_bus.shp\")"
   ]
  },
  {
   "cell_type": "code",
   "execution_count": 5,
   "id": "da50bac3",
   "metadata": {},
   "outputs": [],
   "source": [
    "BikeMi = gpd.read_file(r\"D:\\15_Polimi\\Polimi_onedrive\\OneDrive - Politecnico di Milano\\PhD\\Mapping\\ABC\\ABC-model-18-02-2024\\results\\n_04\\input\\BikeMI.shp\")"
   ]
  },
  {
   "cell_type": "code",
   "execution_count": 15,
   "id": "e7ef3bbc",
   "metadata": {},
   "outputs": [],
   "source": [
    "# Function to find the closest point in the BikeMi GeoDataFrame to each point in the transport GeoDataFrame\n",
    "def append_closest_bikemi_info(transport_gdf, bikemi_gdf):\n",
    "    # Prepare the unary union of the bike points, which is more efficient for repeated distance calculations\n",
    "    bikemi_points_union = bikemi_gdf.geometry.unary_union\n",
    "\n",
    "    # Initialize lists to store the distance and stalli values\n",
    "    distances = []\n",
    "    stalli_values = []\n",
    "\n",
    "    # Iterate over each row in the transportation GeoDataFrame\n",
    "    for transport_geom in transport_gdf.geometry:\n",
    "        # Use nearest_points to find the nearest geometry in the BikeMi GeoDataFrame\n",
    "        nearest_geom = nearest_points(transport_geom, bikemi_points_union)[1]\n",
    "        nearest_bikemi = bikemi_gdf.loc[bikemi_gdf.geometry == nearest_geom]\n",
    "        \n",
    "        # Calculate the distance between the transport station and the nearest BikeMi station\n",
    "        distance = transport_geom.distance(nearest_geom)\n",
    "        distances.append(distance)\n",
    "        \n",
    "        # Extract the 'stalli' value from the nearest BikeMi station\n",
    "        stalli = nearest_bikemi['stalli'].values[0]\n",
    "        stalli_values.append(stalli)\n",
    "    \n",
    "    # Assign the distance and stalli values to the transport GeoDataFrame\n",
    "    transport_gdf['Distance_to_BikeMi'] = distances\n",
    "    transport_gdf['Stalli'] = stalli_values\n",
    "\n",
    "# Assuming you have a GeoDataFrame named 'BikeMi_gdf' for bike-sharing stations\n",
    "# and another GeoDataFrame named 'train_gdf' for train stations\n",
    "\n",
    "# Make sure the CRS for both GeoDataFrames match and are in a projected CRS suitable for distance calculation\n",
    "# If the CRS do not match, you need to reproject one of them:\n",
    "# train_gdf = train_gdf.to_crs(BikeMi_gdf.crs)\n",
    "\n",
    "# Now, call the function to append the closest BikeMi information to the train_gdf\n",
    "append_closest_bikemi_info(train_gdf, BikeMi)\n",
    "append_closest_bikemi_info(metro_gdf, BikeMi)\n",
    "append_closest_bikemi_info(tram_gdf, BikeMi)\n",
    "append_closest_bikemi_info(bus_gdf, BikeMi)"
   ]
  },
  {
   "cell_type": "code",
   "execution_count": 17,
   "id": "c4a33e87",
   "metadata": {},
   "outputs": [],
   "source": [
    "train_gdf.rename(columns={'Distance_to_BikeMi': 'N4_1', 'Stalli': 'N4_2'}, inplace=True)\n",
    "metro_gdf.rename(columns={'Distance_to_BikeMi': 'N4_1', 'Stalli': 'N4_2'}, inplace=True)\n",
    "tram_gdf.rename(columns={'Distance_to_BikeMi': 'N4_1', 'Stalli': 'N4_2'}, inplace=True)\n",
    "bus_gdf.rename(columns={'Distance_to_BikeMi': 'N4_1', 'Stalli': 'N4_2'}, inplace=True)\n"
   ]
  },
  {
   "cell_type": "code",
   "execution_count": 22,
   "id": "38339fdf",
   "metadata": {},
   "outputs": [],
   "source": [
    "train_gdf.to_csv(r\"D:\\15_Polimi\\Polimi_onedrive\\OneDrive - Politecnico di Milano\\PhD\\Mapping\\ABC\\ABC-model-18-02-2024\\results\\n_04\\output\\n04-train.csv\")"
   ]
  },
  {
   "cell_type": "code",
   "execution_count": 23,
   "id": "03fc0d34",
   "metadata": {},
   "outputs": [],
   "source": [
    "tram_gdf.to_csv(r\"D:\\15_Polimi\\Polimi_onedrive\\OneDrive - Politecnico di Milano\\PhD\\Mapping\\ABC\\ABC-model-18-02-2024\\results\\n_04\\output\\n04-tram.csv\")"
   ]
  },
  {
   "cell_type": "code",
   "execution_count": 24,
   "id": "63e8fc4f",
   "metadata": {},
   "outputs": [],
   "source": [
    "metro_gdf.to_csv(r\"D:\\15_Polimi\\Polimi_onedrive\\OneDrive - Politecnico di Milano\\PhD\\Mapping\\ABC\\ABC-model-18-02-2024\\results\\n_04\\output\\n04-metro.csv\")"
   ]
  },
  {
   "cell_type": "code",
   "execution_count": 25,
   "id": "89e76055",
   "metadata": {},
   "outputs": [],
   "source": [
    "bus_gdf.to_csv(r\"D:\\15_Polimi\\Polimi_onedrive\\OneDrive - Politecnico di Milano\\PhD\\Mapping\\ABC\\ABC-model-18-02-2024\\results\\n_04\\output\\n04-bus.csv\")"
   ]
  },
  {
   "cell_type": "code",
   "execution_count": null,
   "id": "2c482f71",
   "metadata": {},
   "outputs": [],
   "source": []
  }
 ],
 "metadata": {
  "kernelspec": {
   "display_name": "Python 3 (ipykernel)",
   "language": "python",
   "name": "python3"
  },
  "language_info": {
   "codemirror_mode": {
    "name": "ipython",
    "version": 3
   },
   "file_extension": ".py",
   "mimetype": "text/x-python",
   "name": "python",
   "nbconvert_exporter": "python",
   "pygments_lexer": "ipython3",
   "version": "3.11.5"
  }
 },
 "nbformat": 4,
 "nbformat_minor": 5
}
